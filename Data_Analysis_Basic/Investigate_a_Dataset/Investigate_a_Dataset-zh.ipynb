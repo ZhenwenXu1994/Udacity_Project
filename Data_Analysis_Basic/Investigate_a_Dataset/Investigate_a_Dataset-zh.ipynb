{
 "cells": [
  {
   "cell_type": "markdown",
   "metadata": {},
   "source": [
    "\n",
    "# 项目：未前往就诊的挂号预约调查数据集（Kaggle的原始数据）\n",
    "\n",
    "## 目录\n",
    "<ul>\n",
    "<li><a href=\"#intro\">简介</a></li>\n",
    "<li><a href=\"#wrangling\">数据整理</a></li>\n",
    "<li><a href=\"#eda\">探索性数据分析</a></li>\n",
    "<li><a href=\"#conclusions\">结论</a></li>\n",
    "</ul>\n",
    "\n",
    "<a id='intro'></a>\n",
    "## 简介\n",
    "\n",
    "本数据集包含10万条巴西预约挂号的求诊信息，研究病人是否如约前往医院就诊。每行数据录入了有关患者特点的多个数值，包括 “预约日期 (ScheduledDay)”指患者具体预约就诊的日期；“街区 (Neighborhood) ”指医院所在位置；“福利保障 (Scholarship)”说明病人是否是巴西福利项目 Bolsa Família 的保障人群；请注意最后一列内容的编码：“No”表示病人已如约就诊，“Yes”说明病人未前往就诊。\n",
    "\n",
    "我的目的是研究这些数据，并确定是否有什么重要的因素可以告诉我哪些病人更有可能如约就诊，哪些病人更有可能不会前往就诊。具体来说，我主要是为了探究以下因素是否会影响病人是否会如约就诊：\n",
    "\n",
    "·Gender(性别)\n",
    "\n",
    "·Day of the week of the appointment(预约的是周几)\n",
    "\n",
    "·Number of days appointment is made in advance(提前预约的天数)\n",
    "\n",
    "·Age(年龄)\n",
    "\n",
    "·Degree of handicap(障碍的等级)\n",
    "\n",
    "以及病人是否：\n",
    "\n",
    "·Received medical welfare(收到医疗福利)\n",
    "\n",
    "·Were diagnosed with hypertension, diabetes, or alcoholism(被诊断为高血压，糖尿病或者酗酒)\n",
    "\n",
    "·Received SMS notification before the appointment(在预约前收到短信通知)"
   ]
  },
  {
   "cell_type": "code",
   "execution_count": 2,
   "metadata": {
    "collapsed": true
   },
   "outputs": [],
   "source": [
    "# 用这个框对你计划使用的所有数据包进行设置\n",
    "#   导入语句。\n",
    "import pandas as pd\n",
    "import numpy as np\n",
    "import matplotlib.pyplot as plt\n",
    "%matplotlib inline\n",
    "\n",
    "# 务必包含一个‘magic word’（带有“%”的***），以便将你的视图\n",
    "#   与 notebook 保持一致。关于更多信息，请访问该网页：\n",
    "#   http://ipython.readthedocs.io/en/stable/interactive/magics.html\n"
   ]
  },
  {
   "cell_type": "markdown",
   "metadata": {},
   "source": [
    "<a id='wrangling'></a>\n",
    "## 数据整理\n",
    "\n",
    "> **提示**：在报告的这一部分中载入数据，检查简洁度，然后整理和清理数据集，以便进行分析。请务必将步骤仔细归档，并确定清理决策是否正确。\n",
    "\n",
    "### 常规属性"
   ]
  },
  {
   "cell_type": "code",
   "execution_count": 3,
   "metadata": {},
   "outputs": [
    {
     "data": {
      "text/html": [
       "<div>\n",
       "<style>\n",
       "    .dataframe thead tr:only-child th {\n",
       "        text-align: right;\n",
       "    }\n",
       "\n",
       "    .dataframe thead th {\n",
       "        text-align: left;\n",
       "    }\n",
       "\n",
       "    .dataframe tbody tr th {\n",
       "        vertical-align: top;\n",
       "    }\n",
       "</style>\n",
       "<table border=\"1\" class=\"dataframe\">\n",
       "  <thead>\n",
       "    <tr style=\"text-align: right;\">\n",
       "      <th></th>\n",
       "      <th>PatientId</th>\n",
       "      <th>AppointmentID</th>\n",
       "      <th>Gender</th>\n",
       "      <th>ScheduledDay</th>\n",
       "      <th>AppointmentDay</th>\n",
       "      <th>Age</th>\n",
       "      <th>Neighbourhood</th>\n",
       "      <th>Scholarship</th>\n",
       "      <th>Hipertension</th>\n",
       "      <th>Diabetes</th>\n",
       "      <th>Alcoholism</th>\n",
       "      <th>Handcap</th>\n",
       "      <th>SMS_received</th>\n",
       "      <th>No-show</th>\n",
       "    </tr>\n",
       "  </thead>\n",
       "  <tbody>\n",
       "    <tr>\n",
       "      <th>0</th>\n",
       "      <td>2.987250e+13</td>\n",
       "      <td>5642903</td>\n",
       "      <td>F</td>\n",
       "      <td>2016-04-29T18:38:08Z</td>\n",
       "      <td>2016-04-29T00:00:00Z</td>\n",
       "      <td>62</td>\n",
       "      <td>JARDIM DA PENHA</td>\n",
       "      <td>0</td>\n",
       "      <td>1</td>\n",
       "      <td>0</td>\n",
       "      <td>0</td>\n",
       "      <td>0</td>\n",
       "      <td>0</td>\n",
       "      <td>No</td>\n",
       "    </tr>\n",
       "    <tr>\n",
       "      <th>1</th>\n",
       "      <td>5.589978e+14</td>\n",
       "      <td>5642503</td>\n",
       "      <td>M</td>\n",
       "      <td>2016-04-29T16:08:27Z</td>\n",
       "      <td>2016-04-29T00:00:00Z</td>\n",
       "      <td>56</td>\n",
       "      <td>JARDIM DA PENHA</td>\n",
       "      <td>0</td>\n",
       "      <td>0</td>\n",
       "      <td>0</td>\n",
       "      <td>0</td>\n",
       "      <td>0</td>\n",
       "      <td>0</td>\n",
       "      <td>No</td>\n",
       "    </tr>\n",
       "    <tr>\n",
       "      <th>2</th>\n",
       "      <td>4.262962e+12</td>\n",
       "      <td>5642549</td>\n",
       "      <td>F</td>\n",
       "      <td>2016-04-29T16:19:04Z</td>\n",
       "      <td>2016-04-29T00:00:00Z</td>\n",
       "      <td>62</td>\n",
       "      <td>MATA DA PRAIA</td>\n",
       "      <td>0</td>\n",
       "      <td>0</td>\n",
       "      <td>0</td>\n",
       "      <td>0</td>\n",
       "      <td>0</td>\n",
       "      <td>0</td>\n",
       "      <td>No</td>\n",
       "    </tr>\n",
       "    <tr>\n",
       "      <th>3</th>\n",
       "      <td>8.679512e+11</td>\n",
       "      <td>5642828</td>\n",
       "      <td>F</td>\n",
       "      <td>2016-04-29T17:29:31Z</td>\n",
       "      <td>2016-04-29T00:00:00Z</td>\n",
       "      <td>8</td>\n",
       "      <td>PONTAL DE CAMBURI</td>\n",
       "      <td>0</td>\n",
       "      <td>0</td>\n",
       "      <td>0</td>\n",
       "      <td>0</td>\n",
       "      <td>0</td>\n",
       "      <td>0</td>\n",
       "      <td>No</td>\n",
       "    </tr>\n",
       "    <tr>\n",
       "      <th>4</th>\n",
       "      <td>8.841186e+12</td>\n",
       "      <td>5642494</td>\n",
       "      <td>F</td>\n",
       "      <td>2016-04-29T16:07:23Z</td>\n",
       "      <td>2016-04-29T00:00:00Z</td>\n",
       "      <td>56</td>\n",
       "      <td>JARDIM DA PENHA</td>\n",
       "      <td>0</td>\n",
       "      <td>1</td>\n",
       "      <td>1</td>\n",
       "      <td>0</td>\n",
       "      <td>0</td>\n",
       "      <td>0</td>\n",
       "      <td>No</td>\n",
       "    </tr>\n",
       "  </tbody>\n",
       "</table>\n",
       "</div>"
      ],
      "text/plain": [
       "      PatientId  AppointmentID Gender          ScheduledDay  \\\n",
       "0  2.987250e+13        5642903      F  2016-04-29T18:38:08Z   \n",
       "1  5.589978e+14        5642503      M  2016-04-29T16:08:27Z   \n",
       "2  4.262962e+12        5642549      F  2016-04-29T16:19:04Z   \n",
       "3  8.679512e+11        5642828      F  2016-04-29T17:29:31Z   \n",
       "4  8.841186e+12        5642494      F  2016-04-29T16:07:23Z   \n",
       "\n",
       "         AppointmentDay  Age      Neighbourhood  Scholarship  Hipertension  \\\n",
       "0  2016-04-29T00:00:00Z   62    JARDIM DA PENHA            0             1   \n",
       "1  2016-04-29T00:00:00Z   56    JARDIM DA PENHA            0             0   \n",
       "2  2016-04-29T00:00:00Z   62      MATA DA PRAIA            0             0   \n",
       "3  2016-04-29T00:00:00Z    8  PONTAL DE CAMBURI            0             0   \n",
       "4  2016-04-29T00:00:00Z   56    JARDIM DA PENHA            0             1   \n",
       "\n",
       "   Diabetes  Alcoholism  Handcap  SMS_received No-show  \n",
       "0         0           0        0             0      No  \n",
       "1         0           0        0             0      No  \n",
       "2         0           0        0             0      No  \n",
       "3         0           0        0             0      No  \n",
       "4         1           0        0             0      No  "
      ]
     },
     "execution_count": 3,
     "metadata": {},
     "output_type": "execute_result"
    }
   ],
   "source": [
    "# 加载数据并打印几行。进行这几项操作，来检查数据\n",
    "#   类型，以及是否有缺失数据或错误数据的情况。\n",
    "df = pd.read_csv('noshowappointments-kagglev2-may-2016.csv')\n",
    "df.head()"
   ]
  },
  {
   "cell_type": "markdown",
   "metadata": {},
   "source": [
    "> 首先阐述一下每一列的数据代表了什么：\n",
    "\n",
    ">  Patientld:代表每一个病人的id；\n",
    "\n",
    ">  AppointmentID:代表每一个预约的id；\n",
    "\n",
    ">  Gender:代表病人的性别，男／女；\n",
    "\n",
    ">  ScheduledDay:代表预约建立的日期；\n",
    "\n",
    ">  AppointmentDay:代表预约被安排的日期；\n",
    "\n",
    ">  Age:代表病人的年龄；\n",
    "\n",
    ">  Neighbourhood:代表医院的位置；\n",
    "\n",
    ">  Scholarship:代表是否病人是否注册了巴西的福利项目；\n",
    "\n",
    ">  Hipertension:代表是否病人是否有高血压；\n",
    "\n",
    ">  Diabetes:代表是否病人是否有糖尿病；\n",
    "\n",
    ">  Alcoholism:代表是否病人是否酗酒；\n",
    "\n",
    ">  Handcap:代表病人残疾的等级；\n",
    "\n",
    ">  SMS_received:代表病人是否在预约前受到了短信通知；\n",
    "\n",
    ">  No-show:代表病人是否在预约日期出现了；"
   ]
  },
  {
   "cell_type": "markdown",
   "metadata": {
    "collapsed": true
   },
   "source": [
    "首先检查每一列唯一值的个数(主要是为了确认各个因素在表格中的值是不是二进制):"
   ]
  },
  {
   "cell_type": "code",
   "execution_count": 4,
   "metadata": {},
   "outputs": [
    {
     "data": {
      "text/plain": [
       "PatientId          62299\n",
       "AppointmentID     110527\n",
       "Gender                 2\n",
       "ScheduledDay      103549\n",
       "AppointmentDay        27\n",
       "Age                  104\n",
       "Neighbourhood         81\n",
       "Scholarship            2\n",
       "Hipertension           2\n",
       "Diabetes               2\n",
       "Alcoholism             2\n",
       "Handcap                5\n",
       "SMS_received           2\n",
       "No-show                2\n",
       "dtype: int64"
      ]
     },
     "execution_count": 4,
     "metadata": {},
     "output_type": "execute_result"
    }
   ],
   "source": [
    "df.nunique()"
   ]
  },
  {
   "cell_type": "markdown",
   "metadata": {},
   "source": [
    "从结果可以看出一共有27个不同的预约日期，通过确认预约日期的最大值与最小值来得出所有预约所覆盖的时间长度："
   ]
  },
  {
   "cell_type": "code",
   "execution_count": 5,
   "metadata": {},
   "outputs": [
    {
     "name": "stdout",
     "output_type": "stream",
     "text": [
      "2016-04-29T00:00:00Z\n",
      "2016-06-08T00:00:00Z\n"
     ]
    }
   ],
   "source": [
    "print(df.AppointmentDay.min())\n",
    "print(df.AppointmentDay.max())"
   ]
  },
  {
   "cell_type": "markdown",
   "metadata": {},
   "source": [
    "从结果可以看出，所有的预约数据是在2016年4月29日到2016年6月8日不到两个月的时间内收集到的，因此，所有的数据分析的观察以及结论仅能代表这段时间内的数据分布，不能套用到其他时间段内。"
   ]
  },
  {
   "cell_type": "markdown",
   "metadata": {},
   "source": [
    "然后检查每一列数据内是否存在空值，以及每列数据的类型："
   ]
  },
  {
   "cell_type": "code",
   "execution_count": 6,
   "metadata": {},
   "outputs": [
    {
     "name": "stdout",
     "output_type": "stream",
     "text": [
      "<class 'pandas.core.frame.DataFrame'>\n",
      "RangeIndex: 110527 entries, 0 to 110526\n",
      "Data columns (total 14 columns):\n",
      "PatientId         110527 non-null float64\n",
      "AppointmentID     110527 non-null int64\n",
      "Gender            110527 non-null object\n",
      "ScheduledDay      110527 non-null object\n",
      "AppointmentDay    110527 non-null object\n",
      "Age               110527 non-null int64\n",
      "Neighbourhood     110527 non-null object\n",
      "Scholarship       110527 non-null int64\n",
      "Hipertension      110527 non-null int64\n",
      "Diabetes          110527 non-null int64\n",
      "Alcoholism        110527 non-null int64\n",
      "Handcap           110527 non-null int64\n",
      "SMS_received      110527 non-null int64\n",
      "No-show           110527 non-null object\n",
      "dtypes: float64(1), int64(8), object(5)\n",
      "memory usage: 11.8+ MB\n"
     ]
    }
   ],
   "source": [
    "df.info()"
   ]
  },
  {
   "cell_type": "markdown",
   "metadata": {},
   "source": [
    "从结果可以看出，每一列数据内都没有数据丢失。从每一列的名字可以看出，有些列的名字存在一些错误，接下来先修正这些名字："
   ]
  },
  {
   "cell_type": "code",
   "execution_count": 7,
   "metadata": {
    "collapsed": true
   },
   "outputs": [],
   "source": [
    "#先将名字大小写统一，转换成全部是小写\n",
    "df.columns = df.columns.str.lower()\n",
    "\n",
    "#将有问题的名字全部替换\n",
    "df.rename(index = str, columns = {'hipertension' : 'hypertension', 'no-show':'no_show', 'handcap':'handicap'}, inplace = True)\n"
   ]
  },
  {
   "cell_type": "markdown",
   "metadata": {},
   "source": [
    "然后，我检查\"age\"列，查看是否存在异常值，同时查看一下年龄的范围是多少："
   ]
  },
  {
   "cell_type": "code",
   "execution_count": 8,
   "metadata": {},
   "outputs": [
    {
     "data": {
      "text/plain": [
       "count    110527.000000\n",
       "mean         37.088874\n",
       "std          23.110205\n",
       "min          -1.000000\n",
       "25%          18.000000\n",
       "50%          37.000000\n",
       "75%          55.000000\n",
       "max         115.000000\n",
       "Name: age, dtype: float64"
      ]
     },
     "execution_count": 8,
     "metadata": {},
     "output_type": "execute_result"
    }
   ],
   "source": [
    "df['age'].describe()"
   ]
  },
  {
   "cell_type": "markdown",
   "metadata": {},
   "source": [
    "从结果可以看出，最大年龄是115岁，最小年龄是-1岁，很明显，最小年龄是有问题的，所以我需要进一步查看\"age\"列的相关数据统计："
   ]
  },
  {
   "cell_type": "code",
   "execution_count": 9,
   "metadata": {},
   "outputs": [
    {
     "data": {
      "text/plain": [
       "-1        1\n",
       " 0     3539\n",
       " 1     2273\n",
       " 2     1618\n",
       " 3     1513\n",
       " 4     1299\n",
       " 5     1489\n",
       " 6     1521\n",
       " 7     1427\n",
       " 8     1424\n",
       " 9     1372\n",
       " 10    1274\n",
       " 11    1195\n",
       " 12    1092\n",
       " 13    1103\n",
       " 14    1118\n",
       " 15    1211\n",
       " 16    1402\n",
       " 17    1509\n",
       " 18    1487\n",
       "Name: age, dtype: int64"
      ]
     },
     "execution_count": 9,
     "metadata": {},
     "output_type": "execute_result"
    }
   ],
   "source": [
    "#统计从小到大年龄的个数，取前20个年龄查看\n",
    "df['age'].value_counts().sort_index().head(20)"
   ]
  },
  {
   "cell_type": "markdown",
   "metadata": {},
   "source": [
    "从结果可以看出，0岁的值也有3539个，不过0岁可以理解为不满1岁的婴儿，所以是合理的，但是-1岁是不可能存在的。由于-1岁只有1个，而总共的数据个数超过了100000个，所以对于其他的统计数据来说是一个非常非常小的值，所以我认为可以直接删掉这个异常值："
   ]
  },
  {
   "cell_type": "code",
   "execution_count": 10,
   "metadata": {
    "collapsed": true
   },
   "outputs": [],
   "source": [
    "#删除最小年龄-1岁\n",
    "df.drop(df.query('age == -1').index, inplace=True)"
   ]
  },
  {
   "cell_type": "markdown",
   "metadata": {},
   "source": [
    "接下来，我通过绘制直方图来检查\"age\"列的分布情况："
   ]
  },
  {
   "cell_type": "code",
   "execution_count": 11,
   "metadata": {},
   "outputs": [
    {
     "data": {
      "image/png": "[encoded data removed]",
      "text/plain": [
       "<matplotlib.figure.Figure at 0x10e399828>"
      ]
     },
     "metadata": {},
     "output_type": "display_data"
    }
   ],
   "source": [
    "plt.hist(df['age'], bins = 20);\n",
    "plt.title('Distribution of Age');\n",
    "plt.xlabel('Age');\n",
    "plt.ylabel('Frequency');"
   ]
  },
  {
   "cell_type": "markdown",
   "metadata": {},
   "source": [
    "从结果可以看出，年龄分布严重向右倾斜，80岁以上的人相当少，但是不能因为80岁的人少就将他们排除在外，因为这些数据也是有效的。因此，如果能创建一个新的列重新分配一下各个年龄段的数据可能会对以后的分析有帮助。于是我们建立一个名为\"age_group\"的新列来重新分配这些数据，将每10岁作为一个阶段重新分配，通过建立新的函数来完成："
   ]
  },
  {
   "cell_type": "code",
   "execution_count": 12,
   "metadata": {
    "collapsed": true
   },
   "outputs": [],
   "source": [
    "#建立名为age_category的函数\n",
    "def age_category(x):\n",
    "    \"\"\" Build a function to put each age into new age categories.\n",
    "        Input:\n",
    "        x -- age\n",
    "        Output:\n",
    "        strings represent age categories\n",
    "    \"\"\"\n",
    "    if x <= 9:\n",
    "        return('0-9')\n",
    "    elif x <= 19:\n",
    "        return('10-19')\n",
    "    elif x <= 29:\n",
    "        return('20-29')\n",
    "    elif x <= 39:\n",
    "        return('30-39')\n",
    "    elif x <= 49:\n",
    "        return('40-49')\n",
    "    elif x <= 59:\n",
    "        return('50-59')\n",
    "    elif x <= 69:\n",
    "        return('60-69')\n",
    "    elif x <= 79:\n",
    "        return('70-79')\n",
    "    else:\n",
    "        return('>=80')\n",
    "\n",
    "#建立\"age_category\"列\n",
    "df['age_category'] = df['age'].apply(age_category)\n",
    "\n",
    "#转换\"age_category\"列的数据类型\n",
    "df['age_category'] = df['age_category'].astype('category')\n",
    "\n",
    "#重新排序\"age_category\"列\n",
    "df['age_category'].cat.reorder_categories(['0-9', '10-19', '20-29', '30-39', '40-49', '50-59', '60-69', '70-79', '>=80'], inplace = True)\n"
   ]
  },
  {
   "cell_type": "markdown",
   "metadata": {},
   "source": [
    "利用上述步骤建立的新列\"age_category\"，重新绘制统计图："
   ]
  },
  {
   "cell_type": "code",
   "execution_count": 13,
   "metadata": {},
   "outputs": [
    {
     "data": {
      "image/png": "[encoded data removed]",
      "text/plain": [
       "<matplotlib.figure.Figure at 0x10e3dc278>"
      ]
     },
     "metadata": {},
     "output_type": "display_data"
    }
   ],
   "source": [
    "df['age_category'].value_counts().sort_index().plot(kind = 'bar');\n",
    "plt.title('Distribution of age categories');\n",
    "plt.xlabel('Age categories');\n",
    "plt.ylabel('Frequency');"
   ]
  },
  {
   "cell_type": "markdown",
   "metadata": {},
   "source": [
    "从结果可以看出，虽然分类以后还是没有看出很明显的分布情况，但是相比于之前的直方图来说，数据相对更加平滑了，大于80岁的数据整合到一起以后使整个图像更加集中，而不是偏向右侧。"
   ]
  },
  {
   "cell_type": "markdown",
   "metadata": {},
   "source": [
    "\n",
    "\n",
    "### 数据清理（请用更具体的标题来代替该标题。）"
   ]
  },
  {
   "cell_type": "markdown",
   "metadata": {},
   "source": [
    "接下来，需要对数据进行清理。首先对与时间相关的数据类型进行转换，由之前的检查可以发现，\"scheduledday\"和\"appointmentday\"两列的数据是与时间相关的，且目前的数据类型是string类型，因此需要转换成datetime。"
   ]
  },
  {
   "cell_type": "code",
   "execution_count": 14,
   "metadata": {},
   "outputs": [
    {
     "data": {
      "text/html": [
       "<div>\n",
       "<style>\n",
       "    .dataframe thead tr:only-child th {\n",
       "        text-align: right;\n",
       "    }\n",
       "\n",
       "    .dataframe thead th {\n",
       "        text-align: left;\n",
       "    }\n",
       "\n",
       "    .dataframe tbody tr th {\n",
       "        vertical-align: top;\n",
       "    }\n",
       "</style>\n",
       "<table border=\"1\" class=\"dataframe\">\n",
       "  <thead>\n",
       "    <tr style=\"text-align: right;\">\n",
       "      <th></th>\n",
       "      <th>patientid</th>\n",
       "      <th>appointmentid</th>\n",
       "      <th>gender</th>\n",
       "      <th>scheduledday</th>\n",
       "      <th>appointmentday</th>\n",
       "      <th>age</th>\n",
       "      <th>neighbourhood</th>\n",
       "      <th>scholarship</th>\n",
       "      <th>hypertension</th>\n",
       "      <th>diabetes</th>\n",
       "      <th>alcoholism</th>\n",
       "      <th>handicap</th>\n",
       "      <th>sms_received</th>\n",
       "      <th>no_show</th>\n",
       "      <th>age_category</th>\n",
       "    </tr>\n",
       "  </thead>\n",
       "  <tbody>\n",
       "    <tr>\n",
       "      <th>0</th>\n",
       "      <td>2.987250e+13</td>\n",
       "      <td>5642903</td>\n",
       "      <td>F</td>\n",
       "      <td>2016-04-29 18:38:08</td>\n",
       "      <td>2016-04-29</td>\n",
       "      <td>62</td>\n",
       "      <td>JARDIM DA PENHA</td>\n",
       "      <td>0</td>\n",
       "      <td>1</td>\n",
       "      <td>0</td>\n",
       "      <td>0</td>\n",
       "      <td>0</td>\n",
       "      <td>0</td>\n",
       "      <td>No</td>\n",
       "      <td>60-69</td>\n",
       "    </tr>\n",
       "    <tr>\n",
       "      <th>1</th>\n",
       "      <td>5.589978e+14</td>\n",
       "      <td>5642503</td>\n",
       "      <td>M</td>\n",
       "      <td>2016-04-29 16:08:27</td>\n",
       "      <td>2016-04-29</td>\n",
       "      <td>56</td>\n",
       "      <td>JARDIM DA PENHA</td>\n",
       "      <td>0</td>\n",
       "      <td>0</td>\n",
       "      <td>0</td>\n",
       "      <td>0</td>\n",
       "      <td>0</td>\n",
       "      <td>0</td>\n",
       "      <td>No</td>\n",
       "      <td>50-59</td>\n",
       "    </tr>\n",
       "    <tr>\n",
       "      <th>2</th>\n",
       "      <td>4.262962e+12</td>\n",
       "      <td>5642549</td>\n",
       "      <td>F</td>\n",
       "      <td>2016-04-29 16:19:04</td>\n",
       "      <td>2016-04-29</td>\n",
       "      <td>62</td>\n",
       "      <td>MATA DA PRAIA</td>\n",
       "      <td>0</td>\n",
       "      <td>0</td>\n",
       "      <td>0</td>\n",
       "      <td>0</td>\n",
       "      <td>0</td>\n",
       "      <td>0</td>\n",
       "      <td>No</td>\n",
       "      <td>60-69</td>\n",
       "    </tr>\n",
       "    <tr>\n",
       "      <th>3</th>\n",
       "      <td>8.679512e+11</td>\n",
       "      <td>5642828</td>\n",
       "      <td>F</td>\n",
       "      <td>2016-04-29 17:29:31</td>\n",
       "      <td>2016-04-29</td>\n",
       "      <td>8</td>\n",
       "      <td>PONTAL DE CAMBURI</td>\n",
       "      <td>0</td>\n",
       "      <td>0</td>\n",
       "      <td>0</td>\n",
       "      <td>0</td>\n",
       "      <td>0</td>\n",
       "      <td>0</td>\n",
       "      <td>No</td>\n",
       "      <td>0-9</td>\n",
       "    </tr>\n",
       "    <tr>\n",
       "      <th>4</th>\n",
       "      <td>8.841186e+12</td>\n",
       "      <td>5642494</td>\n",
       "      <td>F</td>\n",
       "      <td>2016-04-29 16:07:23</td>\n",
       "      <td>2016-04-29</td>\n",
       "      <td>56</td>\n",
       "      <td>JARDIM DA PENHA</td>\n",
       "      <td>0</td>\n",
       "      <td>1</td>\n",
       "      <td>1</td>\n",
       "      <td>0</td>\n",
       "      <td>0</td>\n",
       "      <td>0</td>\n",
       "      <td>No</td>\n",
       "      <td>50-59</td>\n",
       "    </tr>\n",
       "  </tbody>\n",
       "</table>\n",
       "</div>"
      ],
      "text/plain": [
       "      patientid  appointmentid gender        scheduledday appointmentday  age  \\\n",
       "0  2.987250e+13        5642903      F 2016-04-29 18:38:08     2016-04-29   62   \n",
       "1  5.589978e+14        5642503      M 2016-04-29 16:08:27     2016-04-29   56   \n",
       "2  4.262962e+12        5642549      F 2016-04-29 16:19:04     2016-04-29   62   \n",
       "3  8.679512e+11        5642828      F 2016-04-29 17:29:31     2016-04-29    8   \n",
       "4  8.841186e+12        5642494      F 2016-04-29 16:07:23     2016-04-29   56   \n",
       "\n",
       "       neighbourhood  scholarship  hypertension  diabetes  alcoholism  \\\n",
       "0    JARDIM DA PENHA            0             1         0           0   \n",
       "1    JARDIM DA PENHA            0             0         0           0   \n",
       "2      MATA DA PRAIA            0             0         0           0   \n",
       "3  PONTAL DE CAMBURI            0             0         0           0   \n",
       "4    JARDIM DA PENHA            0             1         1           0   \n",
       "\n",
       "   handicap  sms_received no_show age_category  \n",
       "0         0             0      No        60-69  \n",
       "1         0             0      No        50-59  \n",
       "2         0             0      No        60-69  \n",
       "3         0             0      No          0-9  \n",
       "4         0             0      No        50-59  "
      ]
     },
     "execution_count": 14,
     "metadata": {},
     "output_type": "execute_result"
    }
   ],
   "source": [
    "# 将相关列中的数据转换成datetime的数据\n",
    "df['scheduledday'] = pd.to_datetime(df['scheduledday'])\n",
    "df['appointmentday'] = pd.to_datetime(df['appointmentday'])\n",
    "df.head()"
   ]
  },
  {
   "cell_type": "markdown",
   "metadata": {},
   "source": [
    "根据结果可以看出，\"scheduledday\"包含年月日以及具体的时间(包括时分秒的信息)，而\"appointmentday\"仅仅包含年月日的信息，这一部分信息的缺失将有可能对之后的数据分析产生影响。\n",
    "\n",
    "接下来，根据之前的猜测，预约的日期位于一周中的周几可能对病人是否出现在预约时间产生影响，所以需要新创建一个名为\"appointmentday_weekday\"的列储存相关的数据："
   ]
  },
  {
   "cell_type": "code",
   "execution_count": 15,
   "metadata": {},
   "outputs": [
    {
     "data": {
      "text/html": [
       "<div>\n",
       "<style>\n",
       "    .dataframe thead tr:only-child th {\n",
       "        text-align: right;\n",
       "    }\n",
       "\n",
       "    .dataframe thead th {\n",
       "        text-align: left;\n",
       "    }\n",
       "\n",
       "    .dataframe tbody tr th {\n",
       "        vertical-align: top;\n",
       "    }\n",
       "</style>\n",
       "<table border=\"1\" class=\"dataframe\">\n",
       "  <thead>\n",
       "    <tr style=\"text-align: right;\">\n",
       "      <th></th>\n",
       "      <th>patientid</th>\n",
       "      <th>appointmentid</th>\n",
       "      <th>gender</th>\n",
       "      <th>scheduledday</th>\n",
       "      <th>appointmentday</th>\n",
       "      <th>age</th>\n",
       "      <th>neighbourhood</th>\n",
       "      <th>scholarship</th>\n",
       "      <th>hypertension</th>\n",
       "      <th>diabetes</th>\n",
       "      <th>alcoholism</th>\n",
       "      <th>handicap</th>\n",
       "      <th>sms_received</th>\n",
       "      <th>no_show</th>\n",
       "      <th>age_category</th>\n",
       "      <th>appointmentday_weekday</th>\n",
       "    </tr>\n",
       "  </thead>\n",
       "  <tbody>\n",
       "    <tr>\n",
       "      <th>0</th>\n",
       "      <td>2.987250e+13</td>\n",
       "      <td>5642903</td>\n",
       "      <td>F</td>\n",
       "      <td>2016-04-29 18:38:08</td>\n",
       "      <td>2016-04-29</td>\n",
       "      <td>62</td>\n",
       "      <td>JARDIM DA PENHA</td>\n",
       "      <td>0</td>\n",
       "      <td>1</td>\n",
       "      <td>0</td>\n",
       "      <td>0</td>\n",
       "      <td>0</td>\n",
       "      <td>0</td>\n",
       "      <td>No</td>\n",
       "      <td>60-69</td>\n",
       "      <td>Friday</td>\n",
       "    </tr>\n",
       "    <tr>\n",
       "      <th>1</th>\n",
       "      <td>5.589978e+14</td>\n",
       "      <td>5642503</td>\n",
       "      <td>M</td>\n",
       "      <td>2016-04-29 16:08:27</td>\n",
       "      <td>2016-04-29</td>\n",
       "      <td>56</td>\n",
       "      <td>JARDIM DA PENHA</td>\n",
       "      <td>0</td>\n",
       "      <td>0</td>\n",
       "      <td>0</td>\n",
       "      <td>0</td>\n",
       "      <td>0</td>\n",
       "      <td>0</td>\n",
       "      <td>No</td>\n",
       "      <td>50-59</td>\n",
       "      <td>Friday</td>\n",
       "    </tr>\n",
       "    <tr>\n",
       "      <th>2</th>\n",
       "      <td>4.262962e+12</td>\n",
       "      <td>5642549</td>\n",
       "      <td>F</td>\n",
       "      <td>2016-04-29 16:19:04</td>\n",
       "      <td>2016-04-29</td>\n",
       "      <td>62</td>\n",
       "      <td>MATA DA PRAIA</td>\n",
       "      <td>0</td>\n",
       "      <td>0</td>\n",
       "      <td>0</td>\n",
       "      <td>0</td>\n",
       "      <td>0</td>\n",
       "      <td>0</td>\n",
       "      <td>No</td>\n",
       "      <td>60-69</td>\n",
       "      <td>Friday</td>\n",
       "    </tr>\n",
       "    <tr>\n",
       "      <th>3</th>\n",
       "      <td>8.679512e+11</td>\n",
       "      <td>5642828</td>\n",
       "      <td>F</td>\n",
       "      <td>2016-04-29 17:29:31</td>\n",
       "      <td>2016-04-29</td>\n",
       "      <td>8</td>\n",
       "      <td>PONTAL DE CAMBURI</td>\n",
       "      <td>0</td>\n",
       "      <td>0</td>\n",
       "      <td>0</td>\n",
       "      <td>0</td>\n",
       "      <td>0</td>\n",
       "      <td>0</td>\n",
       "      <td>No</td>\n",
       "      <td>0-9</td>\n",
       "      <td>Friday</td>\n",
       "    </tr>\n",
       "    <tr>\n",
       "      <th>4</th>\n",
       "      <td>8.841186e+12</td>\n",
       "      <td>5642494</td>\n",
       "      <td>F</td>\n",
       "      <td>2016-04-29 16:07:23</td>\n",
       "      <td>2016-04-29</td>\n",
       "      <td>56</td>\n",
       "      <td>JARDIM DA PENHA</td>\n",
       "      <td>0</td>\n",
       "      <td>1</td>\n",
       "      <td>1</td>\n",
       "      <td>0</td>\n",
       "      <td>0</td>\n",
       "      <td>0</td>\n",
       "      <td>No</td>\n",
       "      <td>50-59</td>\n",
       "      <td>Friday</td>\n",
       "    </tr>\n",
       "  </tbody>\n",
       "</table>\n",
       "</div>"
      ],
      "text/plain": [
       "      patientid  appointmentid gender        scheduledday appointmentday  age  \\\n",
       "0  2.987250e+13        5642903      F 2016-04-29 18:38:08     2016-04-29   62   \n",
       "1  5.589978e+14        5642503      M 2016-04-29 16:08:27     2016-04-29   56   \n",
       "2  4.262962e+12        5642549      F 2016-04-29 16:19:04     2016-04-29   62   \n",
       "3  8.679512e+11        5642828      F 2016-04-29 17:29:31     2016-04-29    8   \n",
       "4  8.841186e+12        5642494      F 2016-04-29 16:07:23     2016-04-29   56   \n",
       "\n",
       "       neighbourhood  scholarship  hypertension  diabetes  alcoholism  \\\n",
       "0    JARDIM DA PENHA            0             1         0           0   \n",
       "1    JARDIM DA PENHA            0             0         0           0   \n",
       "2      MATA DA PRAIA            0             0         0           0   \n",
       "3  PONTAL DE CAMBURI            0             0         0           0   \n",
       "4    JARDIM DA PENHA            0             1         1           0   \n",
       "\n",
       "   handicap  sms_received no_show age_category appointmentday_weekday  \n",
       "0         0             0      No        60-69                 Friday  \n",
       "1         0             0      No        50-59                 Friday  \n",
       "2         0             0      No        60-69                 Friday  \n",
       "3         0             0      No          0-9                 Friday  \n",
       "4         0             0      No        50-59                 Friday  "
      ]
     },
     "execution_count": 15,
     "metadata": {},
     "output_type": "execute_result"
    }
   ],
   "source": [
    "#获得具体日期是周几\n",
    "df['appointmentday_weekday'] = df['appointmentday'].dt.strftime('%A')\n",
    "df.head()"
   ]
  },
  {
   "cell_type": "markdown",
   "metadata": {},
   "source": [
    "接下来，根据之前的猜测，我第二个感兴趣的是提前预约的天数。要得到提前预约的天数，需要用\"appointmentday\"减去\"scheduledday\"，但是目前\"scheduledday\"的数据包含具体时间，需要将具体时间删去才能将两列数据做减法："
   ]
  },
  {
   "cell_type": "code",
   "execution_count": 16,
   "metadata": {},
   "outputs": [
    {
     "data": {
      "text/html": [
       "<div>\n",
       "<style>\n",
       "    .dataframe thead tr:only-child th {\n",
       "        text-align: right;\n",
       "    }\n",
       "\n",
       "    .dataframe thead th {\n",
       "        text-align: left;\n",
       "    }\n",
       "\n",
       "    .dataframe tbody tr th {\n",
       "        vertical-align: top;\n",
       "    }\n",
       "</style>\n",
       "<table border=\"1\" class=\"dataframe\">\n",
       "  <thead>\n",
       "    <tr style=\"text-align: right;\">\n",
       "      <th></th>\n",
       "      <th>patientid</th>\n",
       "      <th>appointmentid</th>\n",
       "      <th>gender</th>\n",
       "      <th>scheduledday</th>\n",
       "      <th>appointmentday</th>\n",
       "      <th>age</th>\n",
       "      <th>neighbourhood</th>\n",
       "      <th>scholarship</th>\n",
       "      <th>hypertension</th>\n",
       "      <th>diabetes</th>\n",
       "      <th>alcoholism</th>\n",
       "      <th>handicap</th>\n",
       "      <th>sms_received</th>\n",
       "      <th>no_show</th>\n",
       "      <th>age_category</th>\n",
       "      <th>appointmentday_weekday</th>\n",
       "      <th>days_in_advance</th>\n",
       "    </tr>\n",
       "  </thead>\n",
       "  <tbody>\n",
       "    <tr>\n",
       "      <th>0</th>\n",
       "      <td>2.987250e+13</td>\n",
       "      <td>5642903</td>\n",
       "      <td>F</td>\n",
       "      <td>2016-04-29</td>\n",
       "      <td>2016-04-29</td>\n",
       "      <td>62</td>\n",
       "      <td>JARDIM DA PENHA</td>\n",
       "      <td>0</td>\n",
       "      <td>1</td>\n",
       "      <td>0</td>\n",
       "      <td>0</td>\n",
       "      <td>0</td>\n",
       "      <td>0</td>\n",
       "      <td>No</td>\n",
       "      <td>60-69</td>\n",
       "      <td>Friday</td>\n",
       "      <td>0</td>\n",
       "    </tr>\n",
       "    <tr>\n",
       "      <th>1</th>\n",
       "      <td>5.589978e+14</td>\n",
       "      <td>5642503</td>\n",
       "      <td>M</td>\n",
       "      <td>2016-04-29</td>\n",
       "      <td>2016-04-29</td>\n",
       "      <td>56</td>\n",
       "      <td>JARDIM DA PENHA</td>\n",
       "      <td>0</td>\n",
       "      <td>0</td>\n",
       "      <td>0</td>\n",
       "      <td>0</td>\n",
       "      <td>0</td>\n",
       "      <td>0</td>\n",
       "      <td>No</td>\n",
       "      <td>50-59</td>\n",
       "      <td>Friday</td>\n",
       "      <td>0</td>\n",
       "    </tr>\n",
       "    <tr>\n",
       "      <th>2</th>\n",
       "      <td>4.262962e+12</td>\n",
       "      <td>5642549</td>\n",
       "      <td>F</td>\n",
       "      <td>2016-04-29</td>\n",
       "      <td>2016-04-29</td>\n",
       "      <td>62</td>\n",
       "      <td>MATA DA PRAIA</td>\n",
       "      <td>0</td>\n",
       "      <td>0</td>\n",
       "      <td>0</td>\n",
       "      <td>0</td>\n",
       "      <td>0</td>\n",
       "      <td>0</td>\n",
       "      <td>No</td>\n",
       "      <td>60-69</td>\n",
       "      <td>Friday</td>\n",
       "      <td>0</td>\n",
       "    </tr>\n",
       "    <tr>\n",
       "      <th>3</th>\n",
       "      <td>8.679512e+11</td>\n",
       "      <td>5642828</td>\n",
       "      <td>F</td>\n",
       "      <td>2016-04-29</td>\n",
       "      <td>2016-04-29</td>\n",
       "      <td>8</td>\n",
       "      <td>PONTAL DE CAMBURI</td>\n",
       "      <td>0</td>\n",
       "      <td>0</td>\n",
       "      <td>0</td>\n",
       "      <td>0</td>\n",
       "      <td>0</td>\n",
       "      <td>0</td>\n",
       "      <td>No</td>\n",
       "      <td>0-9</td>\n",
       "      <td>Friday</td>\n",
       "      <td>0</td>\n",
       "    </tr>\n",
       "    <tr>\n",
       "      <th>4</th>\n",
       "      <td>8.841186e+12</td>\n",
       "      <td>5642494</td>\n",
       "      <td>F</td>\n",
       "      <td>2016-04-29</td>\n",
       "      <td>2016-04-29</td>\n",
       "      <td>56</td>\n",
       "      <td>JARDIM DA PENHA</td>\n",
       "      <td>0</td>\n",
       "      <td>1</td>\n",
       "      <td>1</td>\n",
       "      <td>0</td>\n",
       "      <td>0</td>\n",
       "      <td>0</td>\n",
       "      <td>No</td>\n",
       "      <td>50-59</td>\n",
       "      <td>Friday</td>\n",
       "      <td>0</td>\n",
       "    </tr>\n",
       "  </tbody>\n",
       "</table>\n",
       "</div>"
      ],
      "text/plain": [
       "      patientid  appointmentid gender scheduledday appointmentday  age  \\\n",
       "0  2.987250e+13        5642903      F   2016-04-29     2016-04-29   62   \n",
       "1  5.589978e+14        5642503      M   2016-04-29     2016-04-29   56   \n",
       "2  4.262962e+12        5642549      F   2016-04-29     2016-04-29   62   \n",
       "3  8.679512e+11        5642828      F   2016-04-29     2016-04-29    8   \n",
       "4  8.841186e+12        5642494      F   2016-04-29     2016-04-29   56   \n",
       "\n",
       "       neighbourhood  scholarship  hypertension  diabetes  alcoholism  \\\n",
       "0    JARDIM DA PENHA            0             1         0           0   \n",
       "1    JARDIM DA PENHA            0             0         0           0   \n",
       "2      MATA DA PRAIA            0             0         0           0   \n",
       "3  PONTAL DE CAMBURI            0             0         0           0   \n",
       "4    JARDIM DA PENHA            0             1         1           0   \n",
       "\n",
       "   handicap  sms_received no_show age_category appointmentday_weekday  \\\n",
       "0         0             0      No        60-69                 Friday   \n",
       "1         0             0      No        50-59                 Friday   \n",
       "2         0             0      No        60-69                 Friday   \n",
       "3         0             0      No          0-9                 Friday   \n",
       "4         0             0      No        50-59                 Friday   \n",
       "\n",
       "   days_in_advance  \n",
       "0                0  \n",
       "1                0  \n",
       "2                0  \n",
       "3                0  \n",
       "4                0  "
      ]
     },
     "execution_count": 16,
     "metadata": {},
     "output_type": "execute_result"
    }
   ],
   "source": [
    "#删去scheduledday中的具体时间\n",
    "df['scheduledday'] = df['scheduledday'].dt.strftime('%Y-%m-%d')\n",
    "\n",
    "#再次将scheduledday列中的数据类型从string转换为datetime\n",
    "df['scheduledday'] = pd.to_datetime(df['scheduledday'])\n",
    "\n",
    "#通过两列想减获得提前预约的天数\n",
    "df['days_in_advance'] = df['appointmentday'] - df['scheduledday']\n",
    "\n",
    "#提取所获的天数中的数字部分\n",
    "df['days_in_advance'] = df['days_in_advance'].dt.days\n",
    "df.head()"
   ]
  },
  {
   "cell_type": "markdown",
   "metadata": {},
   "source": [
    "创建出新数据列以后，首先检查一下有没有异常值："
   ]
  },
  {
   "cell_type": "code",
   "execution_count": 17,
   "metadata": {},
   "outputs": [
    {
     "data": {
      "text/plain": [
       "count    110526.000000\n",
       "mean         10.183794\n",
       "std          15.255034\n",
       "min          -6.000000\n",
       "25%           0.000000\n",
       "50%           4.000000\n",
       "75%          15.000000\n",
       "max         179.000000\n",
       "Name: days_in_advance, dtype: float64"
      ]
     },
     "execution_count": 17,
     "metadata": {},
     "output_type": "execute_result"
    }
   ],
   "source": [
    "df['days_in_advance'].describe()"
   ]
  },
  {
   "cell_type": "markdown",
   "metadata": {},
   "source": [
    "根据结果可以看出最小值为-6，这是异常值，因为不可能预约的日期在做预约的日期的前面，继续进一步查看所有的值，找出所有可能存在的异常值："
   ]
  },
  {
   "cell_type": "code",
   "execution_count": 18,
   "metadata": {},
   "outputs": [
    {
     "data": {
      "text/plain": [
       "-6         1\n",
       "-1         4\n",
       " 0     38562\n",
       " 1      5213\n",
       " 2      6725\n",
       " 3      2737\n",
       " 4      5290\n",
       " 5      3277\n",
       " 6      4037\n",
       " 7      4906\n",
       " 8      2332\n",
       " 9      1605\n",
       " 10     1391\n",
       " 11      987\n",
       " 12     1115\n",
       " 13     1682\n",
       " 14     2913\n",
       " 15     1503\n",
       " 16     1151\n",
       " 17     1107\n",
       "Name: days_in_advance, dtype: int64"
      ]
     },
     "execution_count": 18,
     "metadata": {},
     "output_type": "execute_result"
    }
   ],
   "source": [
    "df['days_in_advance'].value_counts().sort_index().head(20)"
   ]
  },
  {
   "cell_type": "markdown",
   "metadata": {},
   "source": [
    "从上面的结果可以看出存在两类异常值，一个是\"-6\"，一个是\"-1\"。由于两种数据存在的个数是5，相较于所有的数据的个数来说微乎其微，于是我决定直接删去这些异常值："
   ]
  },
  {
   "cell_type": "code",
   "execution_count": 19,
   "metadata": {
    "collapsed": true
   },
   "outputs": [],
   "source": [
    "#删去'days_in_advance'列中小于0的数据\n",
    "df.drop(df[df['days_in_advance'] < 0].index, inplace=True)"
   ]
  },
  {
   "cell_type": "markdown",
   "metadata": {},
   "source": [
    "根据清理完成的'day_in_advance'列，绘制直方图反映数据的分布："
   ]
  },
  {
   "cell_type": "code",
   "execution_count": 20,
   "metadata": {},
   "outputs": [
    {
     "data": {
      "image/png": "[encoded data removed]",
      "text/plain": [
       "<matplotlib.figure.Figure at 0x11215e0f0>"
      ]
     },
     "metadata": {},
     "output_type": "display_data"
    }
   ],
   "source": [
    "plt.hist(df['days_in_advance'], bins = 20);\n",
    "plt.title('Distribution of Days in advance');\n",
    "plt.xlabel('Days in advance');\n",
    "plt.ylabel('Frequency');"
   ]
  },
  {
   "cell_type": "markdown",
   "metadata": {},
   "source": [
    "从上图的结果可以看出，绝大多数的预约都是提前5天以内完成的，虽然也存在一些提前20到30天，或者更多天的预约，但是可以看出相对来说这部分的数据很少，所以根据之前的经验，依旧可以重新分组并创建新的列，以新列来绘制更加完善合理的柱形图来描绘数据的趋势。"
   ]
  },
  {
   "cell_type": "code",
   "execution_count": 21,
   "metadata": {},
   "outputs": [
    {
     "data": {
      "text/html": [
       "<div>\n",
       "<style>\n",
       "    .dataframe thead tr:only-child th {\n",
       "        text-align: right;\n",
       "    }\n",
       "\n",
       "    .dataframe thead th {\n",
       "        text-align: left;\n",
       "    }\n",
       "\n",
       "    .dataframe tbody tr th {\n",
       "        vertical-align: top;\n",
       "    }\n",
       "</style>\n",
       "<table border=\"1\" class=\"dataframe\">\n",
       "  <thead>\n",
       "    <tr style=\"text-align: right;\">\n",
       "      <th></th>\n",
       "      <th>patientid</th>\n",
       "      <th>appointmentid</th>\n",
       "      <th>gender</th>\n",
       "      <th>scheduledday</th>\n",
       "      <th>appointmentday</th>\n",
       "      <th>age</th>\n",
       "      <th>neighbourhood</th>\n",
       "      <th>scholarship</th>\n",
       "      <th>hypertension</th>\n",
       "      <th>diabetes</th>\n",
       "      <th>alcoholism</th>\n",
       "      <th>handicap</th>\n",
       "      <th>sms_received</th>\n",
       "      <th>no_show</th>\n",
       "      <th>age_category</th>\n",
       "      <th>appointmentday_weekday</th>\n",
       "      <th>days_in_advance</th>\n",
       "      <th>day_category</th>\n",
       "    </tr>\n",
       "  </thead>\n",
       "  <tbody>\n",
       "    <tr>\n",
       "      <th>0</th>\n",
       "      <td>2.987250e+13</td>\n",
       "      <td>5642903</td>\n",
       "      <td>F</td>\n",
       "      <td>2016-04-29</td>\n",
       "      <td>2016-04-29</td>\n",
       "      <td>62</td>\n",
       "      <td>JARDIM DA PENHA</td>\n",
       "      <td>0</td>\n",
       "      <td>1</td>\n",
       "      <td>0</td>\n",
       "      <td>0</td>\n",
       "      <td>0</td>\n",
       "      <td>0</td>\n",
       "      <td>No</td>\n",
       "      <td>60-69</td>\n",
       "      <td>Friday</td>\n",
       "      <td>0</td>\n",
       "      <td>same day</td>\n",
       "    </tr>\n",
       "    <tr>\n",
       "      <th>1</th>\n",
       "      <td>5.589978e+14</td>\n",
       "      <td>5642503</td>\n",
       "      <td>M</td>\n",
       "      <td>2016-04-29</td>\n",
       "      <td>2016-04-29</td>\n",
       "      <td>56</td>\n",
       "      <td>JARDIM DA PENHA</td>\n",
       "      <td>0</td>\n",
       "      <td>0</td>\n",
       "      <td>0</td>\n",
       "      <td>0</td>\n",
       "      <td>0</td>\n",
       "      <td>0</td>\n",
       "      <td>No</td>\n",
       "      <td>50-59</td>\n",
       "      <td>Friday</td>\n",
       "      <td>0</td>\n",
       "      <td>same day</td>\n",
       "    </tr>\n",
       "    <tr>\n",
       "      <th>2</th>\n",
       "      <td>4.262962e+12</td>\n",
       "      <td>5642549</td>\n",
       "      <td>F</td>\n",
       "      <td>2016-04-29</td>\n",
       "      <td>2016-04-29</td>\n",
       "      <td>62</td>\n",
       "      <td>MATA DA PRAIA</td>\n",
       "      <td>0</td>\n",
       "      <td>0</td>\n",
       "      <td>0</td>\n",
       "      <td>0</td>\n",
       "      <td>0</td>\n",
       "      <td>0</td>\n",
       "      <td>No</td>\n",
       "      <td>60-69</td>\n",
       "      <td>Friday</td>\n",
       "      <td>0</td>\n",
       "      <td>same day</td>\n",
       "    </tr>\n",
       "    <tr>\n",
       "      <th>3</th>\n",
       "      <td>8.679512e+11</td>\n",
       "      <td>5642828</td>\n",
       "      <td>F</td>\n",
       "      <td>2016-04-29</td>\n",
       "      <td>2016-04-29</td>\n",
       "      <td>8</td>\n",
       "      <td>PONTAL DE CAMBURI</td>\n",
       "      <td>0</td>\n",
       "      <td>0</td>\n",
       "      <td>0</td>\n",
       "      <td>0</td>\n",
       "      <td>0</td>\n",
       "      <td>0</td>\n",
       "      <td>No</td>\n",
       "      <td>0-9</td>\n",
       "      <td>Friday</td>\n",
       "      <td>0</td>\n",
       "      <td>same day</td>\n",
       "    </tr>\n",
       "    <tr>\n",
       "      <th>4</th>\n",
       "      <td>8.841186e+12</td>\n",
       "      <td>5642494</td>\n",
       "      <td>F</td>\n",
       "      <td>2016-04-29</td>\n",
       "      <td>2016-04-29</td>\n",
       "      <td>56</td>\n",
       "      <td>JARDIM DA PENHA</td>\n",
       "      <td>0</td>\n",
       "      <td>1</td>\n",
       "      <td>1</td>\n",
       "      <td>0</td>\n",
       "      <td>0</td>\n",
       "      <td>0</td>\n",
       "      <td>No</td>\n",
       "      <td>50-59</td>\n",
       "      <td>Friday</td>\n",
       "      <td>0</td>\n",
       "      <td>same day</td>\n",
       "    </tr>\n",
       "  </tbody>\n",
       "</table>\n",
       "</div>"
      ],
      "text/plain": [
       "      patientid  appointmentid gender scheduledday appointmentday  age  \\\n",
       "0  2.987250e+13        5642903      F   2016-04-29     2016-04-29   62   \n",
       "1  5.589978e+14        5642503      M   2016-04-29     2016-04-29   56   \n",
       "2  4.262962e+12        5642549      F   2016-04-29     2016-04-29   62   \n",
       "3  8.679512e+11        5642828      F   2016-04-29     2016-04-29    8   \n",
       "4  8.841186e+12        5642494      F   2016-04-29     2016-04-29   56   \n",
       "\n",
       "       neighbourhood  scholarship  hypertension  diabetes  alcoholism  \\\n",
       "0    JARDIM DA PENHA            0             1         0           0   \n",
       "1    JARDIM DA PENHA            0             0         0           0   \n",
       "2      MATA DA PRAIA            0             0         0           0   \n",
       "3  PONTAL DE CAMBURI            0             0         0           0   \n",
       "4    JARDIM DA PENHA            0             1         1           0   \n",
       "\n",
       "   handicap  sms_received no_show age_category appointmentday_weekday  \\\n",
       "0         0             0      No        60-69                 Friday   \n",
       "1         0             0      No        50-59                 Friday   \n",
       "2         0             0      No        60-69                 Friday   \n",
       "3         0             0      No          0-9                 Friday   \n",
       "4         0             0      No        50-59                 Friday   \n",
       "\n",
       "   days_in_advance day_category  \n",
       "0                0     same day  \n",
       "1                0     same day  \n",
       "2                0     same day  \n",
       "3                0     same day  \n",
       "4                0     same day  "
      ]
     },
     "execution_count": 21,
     "metadata": {},
     "output_type": "execute_result"
    }
   ],
   "source": [
    "#建立名为day_category的函数\n",
    "def day_category(x):\n",
    "    \"\"\" Build a function to put each day in advance into new age categories.\n",
    "        Input:\n",
    "        x -- day in advance\n",
    "        Output:\n",
    "        strings represent age categories\n",
    "    \"\"\"\n",
    "    if x == 0:\n",
    "        return('same day')\n",
    "    elif x <= 3:\n",
    "        return('1-3 days')\n",
    "    elif x <= 7:\n",
    "        return('4-7 days')\n",
    "    elif x <= 21:\n",
    "        return('1-3 weeks')\n",
    "    elif x <= 42:\n",
    "        return('4-6 weeks')\n",
    "    elif x <= 56:\n",
    "        return('7-8 weeks')\n",
    "    else:\n",
    "        return('more than 2 months')\n",
    "\n",
    "#建立\"day_category\"列\n",
    "df['day_category'] = df['days_in_advance'].apply(day_category)\n",
    "\n",
    "#转换\"day_category\"列的数据类型\n",
    "df['day_category'] = df['day_category'].astype('category')\n",
    "\n",
    "#重新排序\"age_category\"列\n",
    "df['day_category'].cat.reorder_categories(['same day', '1-3 days', '4-7 days', '1-3 weeks', '4-6 weeks', '7-8 weeks', 'more than 2 months'], inplace = True)\n",
    "\n",
    "df.head()\n"
   ]
  },
  {
   "cell_type": "code",
   "execution_count": 22,
   "metadata": {},
   "outputs": [
    {
     "data": {
      "image/png": "[encoded data removed]",
      "text/plain": [
       "<matplotlib.figure.Figure at 0x112187320>"
      ]
     },
     "metadata": {},
     "output_type": "display_data"
    }
   ],
   "source": [
    "df['day_category'].value_counts().sort_index().plot(kind = 'bar');\n",
    "plt.title('Distribution of day in advance categories');\n",
    "plt.xlabel('day in advance categories');\n",
    "plt.ylabel('Frequency');"
   ]
  },
  {
   "cell_type": "markdown",
   "metadata": {},
   "source": [
    "从重新分组以后作出的柱形统计图可以看到，预约在同一天的数量是最多的，其次为1-3周的，相较于之前的直方图，精确到天以及周以后数据有了不同的趋势，但是整体的趋势还是预约日期与做预约日期越近，出现的频率越高。\n",
    "\n",
    "接下来需要对\"no_show\"列进行数据清理，将数据类型由string变为int类型，以方便之后的数据探索，具体做法为当数据为\"No\"时，改变为\"0\"，当数据为\"Yes\"时，改变为\"1\"。"
   ]
  },
  {
   "cell_type": "code",
   "execution_count": 23,
   "metadata": {},
   "outputs": [
    {
     "data": {
      "text/html": [
       "<div>\n",
       "<style>\n",
       "    .dataframe thead tr:only-child th {\n",
       "        text-align: right;\n",
       "    }\n",
       "\n",
       "    .dataframe thead th {\n",
       "        text-align: left;\n",
       "    }\n",
       "\n",
       "    .dataframe tbody tr th {\n",
       "        vertical-align: top;\n",
       "    }\n",
       "</style>\n",
       "<table border=\"1\" class=\"dataframe\">\n",
       "  <thead>\n",
       "    <tr style=\"text-align: right;\">\n",
       "      <th></th>\n",
       "      <th>patientid</th>\n",
       "      <th>appointmentid</th>\n",
       "      <th>gender</th>\n",
       "      <th>scheduledday</th>\n",
       "      <th>appointmentday</th>\n",
       "      <th>age</th>\n",
       "      <th>neighbourhood</th>\n",
       "      <th>scholarship</th>\n",
       "      <th>hypertension</th>\n",
       "      <th>diabetes</th>\n",
       "      <th>alcoholism</th>\n",
       "      <th>handicap</th>\n",
       "      <th>sms_received</th>\n",
       "      <th>no_show</th>\n",
       "      <th>age_category</th>\n",
       "      <th>appointmentday_weekday</th>\n",
       "      <th>days_in_advance</th>\n",
       "      <th>day_category</th>\n",
       "    </tr>\n",
       "  </thead>\n",
       "  <tbody>\n",
       "    <tr>\n",
       "      <th>0</th>\n",
       "      <td>2.987250e+13</td>\n",
       "      <td>5642903</td>\n",
       "      <td>F</td>\n",
       "      <td>2016-04-29</td>\n",
       "      <td>2016-04-29</td>\n",
       "      <td>62</td>\n",
       "      <td>JARDIM DA PENHA</td>\n",
       "      <td>0</td>\n",
       "      <td>1</td>\n",
       "      <td>0</td>\n",
       "      <td>0</td>\n",
       "      <td>0</td>\n",
       "      <td>0</td>\n",
       "      <td>0</td>\n",
       "      <td>60-69</td>\n",
       "      <td>Friday</td>\n",
       "      <td>0</td>\n",
       "      <td>same day</td>\n",
       "    </tr>\n",
       "    <tr>\n",
       "      <th>1</th>\n",
       "      <td>5.589978e+14</td>\n",
       "      <td>5642503</td>\n",
       "      <td>M</td>\n",
       "      <td>2016-04-29</td>\n",
       "      <td>2016-04-29</td>\n",
       "      <td>56</td>\n",
       "      <td>JARDIM DA PENHA</td>\n",
       "      <td>0</td>\n",
       "      <td>0</td>\n",
       "      <td>0</td>\n",
       "      <td>0</td>\n",
       "      <td>0</td>\n",
       "      <td>0</td>\n",
       "      <td>0</td>\n",
       "      <td>50-59</td>\n",
       "      <td>Friday</td>\n",
       "      <td>0</td>\n",
       "      <td>same day</td>\n",
       "    </tr>\n",
       "    <tr>\n",
       "      <th>2</th>\n",
       "      <td>4.262962e+12</td>\n",
       "      <td>5642549</td>\n",
       "      <td>F</td>\n",
       "      <td>2016-04-29</td>\n",
       "      <td>2016-04-29</td>\n",
       "      <td>62</td>\n",
       "      <td>MATA DA PRAIA</td>\n",
       "      <td>0</td>\n",
       "      <td>0</td>\n",
       "      <td>0</td>\n",
       "      <td>0</td>\n",
       "      <td>0</td>\n",
       "      <td>0</td>\n",
       "      <td>0</td>\n",
       "      <td>60-69</td>\n",
       "      <td>Friday</td>\n",
       "      <td>0</td>\n",
       "      <td>same day</td>\n",
       "    </tr>\n",
       "    <tr>\n",
       "      <th>3</th>\n",
       "      <td>8.679512e+11</td>\n",
       "      <td>5642828</td>\n",
       "      <td>F</td>\n",
       "      <td>2016-04-29</td>\n",
       "      <td>2016-04-29</td>\n",
       "      <td>8</td>\n",
       "      <td>PONTAL DE CAMBURI</td>\n",
       "      <td>0</td>\n",
       "      <td>0</td>\n",
       "      <td>0</td>\n",
       "      <td>0</td>\n",
       "      <td>0</td>\n",
       "      <td>0</td>\n",
       "      <td>0</td>\n",
       "      <td>0-9</td>\n",
       "      <td>Friday</td>\n",
       "      <td>0</td>\n",
       "      <td>same day</td>\n",
       "    </tr>\n",
       "    <tr>\n",
       "      <th>4</th>\n",
       "      <td>8.841186e+12</td>\n",
       "      <td>5642494</td>\n",
       "      <td>F</td>\n",
       "      <td>2016-04-29</td>\n",
       "      <td>2016-04-29</td>\n",
       "      <td>56</td>\n",
       "      <td>JARDIM DA PENHA</td>\n",
       "      <td>0</td>\n",
       "      <td>1</td>\n",
       "      <td>1</td>\n",
       "      <td>0</td>\n",
       "      <td>0</td>\n",
       "      <td>0</td>\n",
       "      <td>0</td>\n",
       "      <td>50-59</td>\n",
       "      <td>Friday</td>\n",
       "      <td>0</td>\n",
       "      <td>same day</td>\n",
       "    </tr>\n",
       "  </tbody>\n",
       "</table>\n",
       "</div>"
      ],
      "text/plain": [
       "      patientid  appointmentid gender scheduledday appointmentday  age  \\\n",
       "0  2.987250e+13        5642903      F   2016-04-29     2016-04-29   62   \n",
       "1  5.589978e+14        5642503      M   2016-04-29     2016-04-29   56   \n",
       "2  4.262962e+12        5642549      F   2016-04-29     2016-04-29   62   \n",
       "3  8.679512e+11        5642828      F   2016-04-29     2016-04-29    8   \n",
       "4  8.841186e+12        5642494      F   2016-04-29     2016-04-29   56   \n",
       "\n",
       "       neighbourhood  scholarship  hypertension  diabetes  alcoholism  \\\n",
       "0    JARDIM DA PENHA            0             1         0           0   \n",
       "1    JARDIM DA PENHA            0             0         0           0   \n",
       "2      MATA DA PRAIA            0             0         0           0   \n",
       "3  PONTAL DE CAMBURI            0             0         0           0   \n",
       "4    JARDIM DA PENHA            0             1         1           0   \n",
       "\n",
       "   handicap  sms_received  no_show age_category appointmentday_weekday  \\\n",
       "0         0             0        0        60-69                 Friday   \n",
       "1         0             0        0        50-59                 Friday   \n",
       "2         0             0        0        60-69                 Friday   \n",
       "3         0             0        0          0-9                 Friday   \n",
       "4         0             0        0        50-59                 Friday   \n",
       "\n",
       "   days_in_advance day_category  \n",
       "0                0     same day  \n",
       "1                0     same day  \n",
       "2                0     same day  \n",
       "3                0     same day  \n",
       "4                0     same day  "
      ]
     },
     "execution_count": 23,
     "metadata": {},
     "output_type": "execute_result"
    }
   ],
   "source": [
    "df['no_show'] = df['no_show'].apply(lambda x: 0 if x == 'No' else 1)\n",
    "df.head()"
   ]
  },
  {
   "cell_type": "markdown",
   "metadata": {},
   "source": [
    "<a id='eda'></a>\n",
    "## 探索性数据分析\n",
    "\n",
    "> **提示**在你完成数据整理和清理之后，现在可以进行探索性数据分析了。你需要计算统计值，创建可视化图表，解决你在一开始的简介部分中提出的研究问题。我们推荐你采用系统化方法。一次只探索一个变量，然后探索变量之间的关系。\n",
    "\n",
    "### 研究问题 1: 是否病人的性别会影响在预约的日期出现？"
   ]
  },
  {
   "cell_type": "code",
   "execution_count": 36,
   "metadata": {},
   "outputs": [
    {
     "data": {
      "text/plain": [
       "gender\n",
       "F    0.203115\n",
       "M    0.199638\n",
       "Name: no_show, dtype: float64"
      ]
     },
     "execution_count": 36,
     "metadata": {},
     "output_type": "execute_result"
    }
   ],
   "source": [
    "#通过使用groupby函数将'gender'和'no_show'列聚合到一起，然后计算每种性别的平均出现的次数：\n",
    "df_gender = df.groupby('gender')['no_show'].mean()\n",
    "df_gender"
   ]
  },
  {
   "cell_type": "code",
   "execution_count": 37,
   "metadata": {},
   "outputs": [
    {
     "data": {
      "text/plain": [
       "gender\n",
       "F    71836\n",
       "M    38685\n",
       "Name: patientid, dtype: int64"
      ]
     },
     "execution_count": 37,
     "metadata": {},
     "output_type": "execute_result"
    }
   ],
   "source": [
    "#然后将每个计算了爽约率的变量人口数量分布进行可视化：\n",
    "df.groupby('gender')['patientid'].count()"
   ]
  },
  {
   "cell_type": "code",
   "execution_count": 43,
   "metadata": {},
   "outputs": [
    {
     "data": {
      "image/png": "[encoded data removed]",
      "text/plain": [
       "<matplotlib.figure.Figure at 0x1113dcef0>"
      ]
     },
     "metadata": {},
     "output_type": "display_data"
    }
   ],
   "source": [
    "df.groupby('gender')['patientid'].count().plot(kind = 'pie', autopct = '%.0f%%');"
   ]
  },
  {
   "cell_type": "markdown",
   "metadata": {},
   "source": [
    "根据饼图可以看出，两个性别的人数占比相对来说是比较合理的，不会出现人数特别少的情况，基本对半分，同时说明观察的样本数量相对来说是足够的。"
   ]
  },
  {
   "cell_type": "code",
   "execution_count": 25,
   "metadata": {},
   "outputs": [
    {
     "data": {
      "image/png": "[encoded data removed]",
      "text/plain": [
       "<matplotlib.figure.Figure at 0x10ea51b70>"
      ]
     },
     "metadata": {},
     "output_type": "display_data"
    }
   ],
   "source": [
    "#接下来将得到的数据进行可视化，我选择使用柱状图：\n",
    "locations = [1, 2]\n",
    "heights = df_gender.values\n",
    "labels = ['Male', 'Female']\n",
    "plt.bar(locations, heights, tick_label=labels)\n",
    "plt.title('Proportions of no-show by gender')\n",
    "plt.xlabel('Gender')\n",
    "plt.ylabel('Proportion of no-show');"
   ]
  },
  {
   "cell_type": "markdown",
   "metadata": {},
   "source": [
    "从柱状图可以看出，每种性别的平均出现次数没有太大的分别，所以我认为性别对于是否病人会在预约的日期出现并没有什么影响。"
   ]
  },
  {
   "cell_type": "markdown",
   "metadata": {},
   "source": [
    "### 研究问题 2: 预约的时间在工作日还是周末(除了周日)是否会影响病人在预约日期出现？"
   ]
  },
  {
   "cell_type": "code",
   "execution_count": 26,
   "metadata": {},
   "outputs": [
    {
     "data": {
      "text/plain": [
       "appointmentday_weekday\n",
       "Friday       0.212261\n",
       "Monday       0.206446\n",
       "Saturday     0.230769\n",
       "Thursday     0.193494\n",
       "Tuesday      0.200874\n",
       "Wednesday    0.196861\n",
       "Name: no_show, dtype: float64"
      ]
     },
     "execution_count": 26,
     "metadata": {},
     "output_type": "execute_result"
    }
   ],
   "source": [
    "#首先通过使用groupby函数将'appointmentday_weekday'和'no_show'列聚合到一起，然后计算每个工作日的平均出现的次数：\n",
    "df_weekday = df.groupby('appointmentday_weekday')['no_show'].mean()\n",
    "df_weekday"
   ]
  },
  {
   "cell_type": "code",
   "execution_count": 39,
   "metadata": {},
   "outputs": [
    {
     "data": {
      "text/plain": [
       "appointmentday_weekday\n",
       "Friday       19019\n",
       "Monday       22713\n",
       "Saturday        39\n",
       "Thursday     17246\n",
       "Tuesday      25638\n",
       "Wednesday    25866\n",
       "Name: patientid, dtype: int64"
      ]
     },
     "execution_count": 39,
     "metadata": {},
     "output_type": "execute_result"
    }
   ],
   "source": [
    "#然后将每个计算了爽约率的变量人口数量分布进行可视化：\n",
    "df.groupby('appointmentday_weekday')['patientid'].count()"
   ]
  },
  {
   "cell_type": "code",
   "execution_count": 44,
   "metadata": {},
   "outputs": [
    {
     "data": {
      "image/png": "[encoded data removed]",
      "text/plain": [
       "<matplotlib.figure.Figure at 0x111252b38>"
      ]
     },
     "metadata": {},
     "output_type": "display_data"
    }
   ],
   "source": [
    "df.groupby('appointmentday_weekday')['patientid'].count().plot(kind = 'pie', autopct = '%.0f%%');"
   ]
  },
  {
   "cell_type": "markdown",
   "metadata": {},
   "source": [
    "根据饼图可以看出，除了周六统计的数量特别少，只有39次以外，其他的工作日的统计数量都还算正常，说明这个统计的结果可能存在偶然因素。"
   ]
  },
  {
   "cell_type": "code",
   "execution_count": 27,
   "metadata": {},
   "outputs": [
    {
     "data": {
      "image/png": "[encoded data removed]",
      "text/plain": [
       "<matplotlib.figure.Figure at 0x10ea5d9b0>"
      ]
     },
     "metadata": {},
     "output_type": "display_data"
    }
   ],
   "source": [
    "#接下来将得到的数据进行可视化，我选择使用柱状图：\n",
    "weekday_labels=['Monday','Tuesday','Wednesday','Thursday','Friday','Saturday']\n",
    "df_weekday = df_weekday[weekday_labels]\n",
    "df_weekday.plot(kind='bar')\n",
    "plt.title('Proportions of no-show by weekday')\n",
    "plt.xlabel('Weekday')\n",
    "plt.ylabel('Proportion of no-show');"
   ]
  },
  {
   "cell_type": "markdown",
   "metadata": {},
   "source": [
    "根据柱状图可以看出，病人在预约时间不出现的比例在周五和周六更高，其中周六的比例最高。由此可见，预约时间在工作日还是周末(除开周日)会影响病人在预约日期出现，在周末(除开周日)不出现的概率比工作日更高。"
   ]
  },
  {
   "cell_type": "markdown",
   "metadata": {},
   "source": [
    "### 研究问题 3: 预约的时间距离做预约的时间越远是否越会影响病人在预约日期出现？"
   ]
  },
  {
   "cell_type": "code",
   "execution_count": 28,
   "metadata": {},
   "outputs": [
    {
     "data": {
      "text/plain": [
       "day_category\n",
       "same day              0.046471\n",
       "1-3 days              0.228893\n",
       "4-7 days              0.252027\n",
       "1-3 weeks             0.312216\n",
       "4-6 weeks             0.336793\n",
       "7-8 weeks             0.319182\n",
       "more than 2 months    0.297242\n",
       "Name: no_show, dtype: float64"
      ]
     },
     "execution_count": 28,
     "metadata": {},
     "output_type": "execute_result"
    }
   ],
   "source": [
    "#首先通过使用groupby函数将'day_category'和'no_show'列聚合到一起，然后计算每个工作日的平均出现的次数：\n",
    "df_day_category = df.groupby('day_category')['no_show'].mean()\n",
    "df_day_category"
   ]
  },
  {
   "cell_type": "code",
   "execution_count": 41,
   "metadata": {},
   "outputs": [
    {
     "data": {
      "text/plain": [
       "day_category\n",
       "same day              38562\n",
       "1-3 days              14675\n",
       "4-7 days              17510\n",
       "1-3 weeks             20899\n",
       "4-6 weeks             14454\n",
       "7-8 weeks              1955\n",
       "more than 2 months     2466\n",
       "Name: patientid, dtype: int64"
      ]
     },
     "execution_count": 41,
     "metadata": {},
     "output_type": "execute_result"
    }
   ],
   "source": [
    "#然后将每个计算了爽约率的变量人口数量分布进行可视化：\n",
    "df.groupby('day_category')['patientid'].count()"
   ]
  },
  {
   "cell_type": "code",
   "execution_count": 45,
   "metadata": {},
   "outputs": [
    {
     "data": {
      "image/png": "[encoded data removed]",
      "text/plain": [
       "<matplotlib.figure.Figure at 0x1120fc7f0>"
      ]
     },
     "metadata": {},
     "output_type": "display_data"
    }
   ],
   "source": [
    "df.groupby('day_category')['patientid'].count().plot(kind = 'pie', autopct = '%.0f%%');"
   ]
  },
  {
   "cell_type": "markdown",
   "metadata": {},
   "source": [
    "根据饼图可以看出,7周以上的统计数量相对来说少了很多，可能使结果存在偶然性。"
   ]
  },
  {
   "cell_type": "code",
   "execution_count": 29,
   "metadata": {},
   "outputs": [
    {
     "data": {
      "image/png": "[encoded data removed]",
      "text/plain": [
       "<matplotlib.figure.Figure at 0x10ec4e8d0>"
      ]
     },
     "metadata": {},
     "output_type": "display_data"
    }
   ],
   "source": [
    "#接下来将得到的数据进行可视化，我选择使用柱状图：\n",
    "df_day_category.plot(kind='bar')\n",
    "plt.title('Proportions of no-show by advanced time')\n",
    "plt.xlabel('Advanced time')\n",
    "plt.ylabel('Proportion of no-show');"
   ]
  },
  {
   "cell_type": "markdown",
   "metadata": {},
   "source": [
    "根据柱状图可以看出提前4-8周预约的病人更有可能在预约日期不出现，同时，提前1-3周预约的病人不出现的几率也很高。且由图可见病人在预约日期不出现的概率是随着提前时间的变长而变高的，所以预约的时间距离做预约的时间越远，越会提高病人在预约日期内不出现的概率。"
   ]
  },
  {
   "cell_type": "markdown",
   "metadata": {},
   "source": [
    "### 研究问题 4: 病人的年龄是否越会影响病人在预约日期出现？"
   ]
  },
  {
   "cell_type": "code",
   "execution_count": 30,
   "metadata": {},
   "outputs": [
    {
     "data": {
      "text/plain": [
       "age_category\n",
       "0-9      0.199325\n",
       "10-19    0.251720\n",
       "20-29    0.246678\n",
       "30-39    0.217469\n",
       "40-49    0.202688\n",
       "50-59    0.174998\n",
       "60-69    0.150724\n",
       "70-79    0.152005\n",
       ">=80     0.163296\n",
       "Name: no_show, dtype: float64"
      ]
     },
     "execution_count": 30,
     "metadata": {},
     "output_type": "execute_result"
    }
   ],
   "source": [
    "#首先通过使用groupby函数将'age_category'和'no_show'列聚合到一起，然后计算每个工作日的平均出现的次数：\n",
    "df_age_category = df.groupby('age_category')['no_show'].mean()\n",
    "df_age_category"
   ]
  },
  {
   "cell_type": "code",
   "execution_count": 33,
   "metadata": {},
   "outputs": [
    {
     "data": {
      "text/plain": [
       "age_category\n",
       "0-9      17474\n",
       "10-19    12935\n",
       "20-29    13698\n",
       "30-39    15170\n",
       "40-49    14209\n",
       "50-59    15863\n",
       "60-69    11876\n",
       "70-79     5934\n",
       ">=80      3362\n",
       "Name: patientid, dtype: int64"
      ]
     },
     "execution_count": 33,
     "metadata": {},
     "output_type": "execute_result"
    }
   ],
   "source": [
    "#然后将每个计算了爽约率的变量人口数量分布进行可视化：\n",
    "df.groupby('age_category')['patientid'].count()"
   ]
  },
  {
   "cell_type": "code",
   "execution_count": 34,
   "metadata": {},
   "outputs": [
    {
     "data": {
      "text/plain": [
       "<matplotlib.axes._subplots.AxesSubplot at 0x1124a0240>"
      ]
     },
     "execution_count": 34,
     "metadata": {},
     "output_type": "execute_result"
    },
    {
     "data": {
      "image/png": "[encoded data removed]",
      "text/plain": [
       "<matplotlib.figure.Figure at 0x10ec7c710>"
      ]
     },
     "metadata": {},
     "output_type": "display_data"
    }
   ],
   "source": [
    "df.groupby('age_category')['patientid'].count().plot(kind = 'pie', autopct = '%.0f%%')"
   ]
  },
  {
   "cell_type": "markdown",
   "metadata": {},
   "source": [
    "根据饼图可以看出，每个年龄段的人数相对来说是比较合理的，不会出现人数特别少的情况，全都保持在300以上，说明观察的样本数量相对来说是足够的。"
   ]
  },
  {
   "cell_type": "code",
   "execution_count": 154,
   "metadata": {},
   "outputs": [
    {
     "data": {
      "image/png": "[encoded data removed]",
      "text/plain": [
       "<matplotlib.figure.Figure at 0x11fb982e8>"
      ]
     },
     "metadata": {},
     "output_type": "display_data"
    }
   ],
   "source": [
    "#接下来将得到的数据进行可视化，我选择使用柱状图：\n",
    "df_age_category.plot(kind='bar')\n",
    "plt.title('Proportion of no-show by age')\n",
    "plt.xlabel('Age')\n",
    "plt.ylabel('Proportion of no-show');"
   ]
  },
  {
   "cell_type": "markdown",
   "metadata": {},
   "source": [
    "根据柱状图可以看出，处于10-29岁之间的病人有更高的几率在预约日期不出现，其中10-19岁这一段拥有最高的概率不出现。但是这个结果不具有代表性，因为每个年龄段的统计数据都偏少，同时，病人在预约日期不出现的概率没有随着年龄的增长而完全呈现下降的趋势，在70岁以后的几率反而有所回升，所以，最后的结果是病人的年龄在一定层面上会影响病人在预约日期出现的概率，但是没有特别明显的规律。"
   ]
  },
  {
   "cell_type": "markdown",
   "metadata": {},
   "source": [
    "### 研究问题 5: 病人是否拥有医疗福利，是否被诊断为高血压，糖尿病或者酗酒，以及是否在预约前收到短信通知会不会影响病人在预约日期出现？"
   ]
  },
  {
   "cell_type": "markdown",
   "metadata": {},
   "source": [
    "最后一个问题，将表格内的其余所有的因素进行分析，判断它们是否会影响病人在预约日期出现，因为这些因素的数据全是\"0\"和\"1\"，所以相对地，将所有的因素集合到一起进行分析。"
   ]
  },
  {
   "cell_type": "markdown",
   "metadata": {},
   "source": [
    "首先对病人是否拥有医疗福利进行分析："
   ]
  },
  {
   "cell_type": "code",
   "execution_count": 160,
   "metadata": {},
   "outputs": [
    {
     "data": {
      "image/png": "[encoded data removed]",
      "text/plain": [
       "<matplotlib.figure.Figure at 0x11b24a588>"
      ]
     },
     "metadata": {},
     "output_type": "display_data"
    }
   ],
   "source": [
    "df.groupby('scholarship')['no_show'].mean().plot(kind = 'bar')\n",
    "location = [0,1]\n",
    "labels = ['No welfare', 'Recive welfare']\n",
    "plt.title('Proportions of no-show by Scholoarship');\n",
    "plt.xticks(location,labels);\n",
    "plt.xlabel('Welfare status');\n",
    "plt.ylabel('Proportion');"
   ]
  },
  {
   "cell_type": "markdown",
   "metadata": {},
   "source": [
    "根据柱形图，可以粗略看出，拥有医疗福利的病人更可能在预约日期不出现。"
   ]
  },
  {
   "cell_type": "markdown",
   "metadata": {},
   "source": [
    "然后对病人是否被诊断为高血压进行分析："
   ]
  },
  {
   "cell_type": "code",
   "execution_count": 161,
   "metadata": {},
   "outputs": [
    {
     "data": {
      "image/png": "[encoded data removed]",
      "text/plain": [
       "<matplotlib.figure.Figure at 0x11b2ae5c0>"
      ]
     },
     "metadata": {},
     "output_type": "display_data"
    }
   ],
   "source": [
    "df.groupby('hypertension')['no_show'].mean().plot(kind = 'bar')\n",
    "location = [0,1]\n",
    "labels = ['No', 'Yes']\n",
    "plt.title('Proportions of no-show by hypertension');\n",
    "plt.xticks(location,labels);\n",
    "plt.xlabel('Whether have hypertension');\n",
    "plt.ylabel('Proportion');"
   ]
  },
  {
   "cell_type": "markdown",
   "metadata": {},
   "source": [
    "根据柱形图，可以粗略看出，没有被诊断为高血压的病人更可能在预约日期不出现。"
   ]
  },
  {
   "cell_type": "markdown",
   "metadata": {},
   "source": [
    "接下来对病人是否诊断为糖尿病进行分析："
   ]
  },
  {
   "cell_type": "code",
   "execution_count": 162,
   "metadata": {},
   "outputs": [
    {
     "data": {
      "image/png": "[encoded data removed]",
      "text/plain": [
       "<matplotlib.figure.Figure at 0x11ba553c8>"
      ]
     },
     "metadata": {},
     "output_type": "display_data"
    }
   ],
   "source": [
    "df.groupby('diabetes')['no_show'].mean().plot(kind = 'bar')\n",
    "location = [0,1]\n",
    "labels = ['No', 'Yes']\n",
    "plt.title('Proportions of no-show by Diabetes');\n",
    "plt.xticks(location,labels);\n",
    "plt.xlabel('Whether have diabetes');\n",
    "plt.ylabel('Proportion');"
   ]
  },
  {
   "cell_type": "markdown",
   "metadata": {},
   "source": [
    "根据柱形图，可以粗略看出，没有被诊断为糖尿病的病人更可能在预约日期不出现。"
   ]
  },
  {
   "cell_type": "markdown",
   "metadata": {},
   "source": [
    "接下来对病人是否诊断为酗酒进行分析："
   ]
  },
  {
   "cell_type": "code",
   "execution_count": 163,
   "metadata": {},
   "outputs": [
    {
     "data": {
      "image/png": "[encoded data removed]",
      "text/plain": [
       "<matplotlib.figure.Figure at 0x1200ca4e0>"
      ]
     },
     "metadata": {},
     "output_type": "display_data"
    }
   ],
   "source": [
    "df.groupby('alcoholism')['no_show'].mean().plot(kind = 'bar')\n",
    "location = [0,1]\n",
    "labels = ['No', 'Yes']\n",
    "plt.title('Proportions of no-show by Alcoholism');\n",
    "plt.xticks(location,labels);\n",
    "plt.xlabel('Whether have alcoholism');\n",
    "plt.ylabel('Proportion');"
   ]
  },
  {
   "cell_type": "markdown",
   "metadata": {},
   "source": [
    "根据柱形图，可以粗略看出，病人有没有被诊断为酗酒对病人是否会在预约日期出现没有影响。"
   ]
  },
  {
   "cell_type": "markdown",
   "metadata": {},
   "source": [
    "接下来对病人的残疾等级是否会对在预约日期出现有影响进行分析："
   ]
  },
  {
   "cell_type": "code",
   "execution_count": 168,
   "metadata": {},
   "outputs": [
    {
     "data": {
      "image/png": "[encoded data removed]",
      "text/plain": [
       "<matplotlib.figure.Figure at 0x11031bc50>"
      ]
     },
     "metadata": {},
     "output_type": "display_data"
    }
   ],
   "source": [
    "df.groupby('handicap')['no_show'].mean().plot(kind = 'bar')\n",
    "plt.title('Proportions of no-show by Handcap');\n",
    "plt.xlabel('Level of handicap');\n",
    "plt.ylabel('Proportion');"
   ]
  },
  {
   "cell_type": "markdown",
   "metadata": {},
   "source": [
    "根据柱形图，可以粗略看出，病人的残疾等级越高，越有可能不会在预约日期出现。"
   ]
  },
  {
   "cell_type": "markdown",
   "metadata": {},
   "source": [
    "接下来，对病人是否在预约前接到短信通知会不会对病人在预约日期出现造成影响进行分析："
   ]
  },
  {
   "cell_type": "code",
   "execution_count": 170,
   "metadata": {},
   "outputs": [
    {
     "data": {
      "image/png": "[encoded data removed]",
      "text/plain": [
       "<matplotlib.figure.Figure at 0x110356278>"
      ]
     },
     "metadata": {},
     "output_type": "display_data"
    }
   ],
   "source": [
    "df.groupby('sms_received')['no_show'].mean().plot(kind = 'bar')\n",
    "location = [0,1]\n",
    "labels = ['No', 'Yes']\n",
    "plt.title('Proportions of no-show by SMS_received');\n",
    "plt.xticks(location,labels);\n",
    "plt.xlabel('Whether receive SMS before the appointment');\n",
    "plt.ylabel('Proportion');"
   ]
  },
  {
   "cell_type": "markdown",
   "metadata": {},
   "source": [
    "根据柱形图，可以看出，在预约前收到短信通知的病人反倒更有可能在预约日期不出现。"
   ]
  },
  {
   "cell_type": "markdown",
   "metadata": {},
   "source": [
    "<a id='conclusions'></a>\n",
    "## 结论\n",
    "\n",
    "> 这个数据集包含了一百多万个巴西的医疗预约的数据信息，主要围绕的问题是是否预约的病人会在预约日期出现，并且由此进行了一系列的探索和数据分析。关于这一次的数据分析，主要研究每一个预测因子与”No-show”这一结果变量之间的双变量关系。\n",
    "\n",
    "> 结果显示，不同的性别对于病人是否会在预约日期出现没有影响，每种性别的平均出现次数没有太大分别。但是病人在周五和周六不出席的频率高于其他时间。同时，在同一天预约的病人缺席预约的概率最低。关于年龄问题，处于10-29岁年龄段的人有更高的几率在预约日期不出现。那些拥有医疗福利的，没有被诊断为高血压，糖尿病的病人更容易缺席预约。最让人奇怪的是，在预约前收到短信通知的病人反倒更有可能在预约日期不出现。\n",
    "\n",
    "> 虽然得出了以上的结果，但是这些结果仅来自于不到两个月的时间内的观测，而且包含的数据个数也没有特别广，所以这些结果并不能完全代表所有进行预约的病人的就医趋势。同时，这些结果仅仅来自于初步的数据分析，所有的结果变量仅来源于一个预测因子的研究，并没有相互分析，所以建立更加复杂的统计模型进行深入的研究是接下来需要从事的工作。"
   ]
  },
  {
   "cell_type": "code",
   "execution_count": 171,
   "metadata": {},
   "outputs": [
    {
     "data": {
      "text/plain": [
       "255"
      ]
     },
     "execution_count": 171,
     "metadata": {},
     "output_type": "execute_result"
    }
   ],
   "source": [
    "from subprocess import call\n",
    "call(['python', '-m', 'nbconvert', 'Investigate_a_Dataset.ipynb'])"
   ]
  },
  {
   "cell_type": "code",
   "execution_count": null,
   "metadata": {
    "collapsed": true
   },
   "outputs": [],
   "source": []
  }
 ],
 "metadata": {
  "kernelspec": {
   "display_name": "Python 3",
   "language": "python",
   "name": "python3"
  },
  "language_info": {
   "codemirror_mode": {
    "name": "ipython",
    "version": 3
   },
   "file_extension": ".py",
   "mimetype": "text/x-python",
   "name": "python",
   "nbconvert_exporter": "python",
   "pygments_lexer": "ipython3",
   "version": "3.6.3"
  }
 },
 "nbformat": 4,
 "nbformat_minor": 2
}
