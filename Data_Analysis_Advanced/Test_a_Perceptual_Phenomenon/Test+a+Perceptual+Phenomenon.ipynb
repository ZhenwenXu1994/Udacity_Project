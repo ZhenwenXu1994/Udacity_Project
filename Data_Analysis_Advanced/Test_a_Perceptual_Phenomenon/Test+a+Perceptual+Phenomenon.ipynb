{
 "cells": [
  {
   "cell_type": "markdown",
   "metadata": {},
   "source": [
    "## Analyzing the Stroop Effect\n",
    "\n",
    "### Background Information\n",
    "\n",
    "In a Stroop task, participants are presented with a list of words, with each word displayed in a color of ink. The participant’s task is to say out loud the color of the ink in which the word is printed. The task has two conditions: a congruent words condition, and an incongruent words condition. In the congruent words condition, the words being displayed are color words whose names match the colors in which they are printed: for example RED, BLUE. In the incongruent words condition, the words displayed are color words whose names do not match the colors in which they are printed: for example PURPLE, ORANGE. In each case, we measure the time it takes to name the ink colors in equally-sized lists. Each participant will go through and record a time from each condition.\n",
    "\n",
    "### Investigation\n",
    "\n",
    "##### (1) What is the independent variable? What is the dependent variable?"
   ]
  },
  {
   "cell_type": "markdown",
   "metadata": {},
   "source": [
    "A independent variable is a quantity that being manipulated in the experimment. The independent variable of this case is whether the front color and the word name are same or different.\n",
    "\n",
    "A dependent variable is a quantity whose value depends on how the independent value is manipulated. The dependent variable of this case is the reaction time of the participant to say the front color."
   ]
  },
  {
   "cell_type": "markdown",
   "metadata": {},
   "source": [
    "##### (2) What is an appropriate set of hypotheses for this task? Specify your null and alternative hypotheses, and clearly define any notation used. Justify your choices."
   ]
  },
  {
   "cell_type": "markdown",
   "metadata": {},
   "source": [
    "First of all, I need to analyze the test, and this test exist two conditions of experiments, which are congruent color recognition and incongruent color recognition. And in congruent color recognition, the color of the words printed in is the same as the words' representation. In the incongruent color recognition, the color of the words is different from the words' representation. Then, the participants must recognize the color of the words printed in, in spite of whether the word represents the color that it is printed in. After that, I need to collect all data about the time which participants use to recognize the right color of the words printed in, and classify them by two different conditions.\n",
    "\n",
    "The purpose of this test is thatI hope to discover the relationship between the time that participants use to and the different conditions they meet. Based on the experiments, the following words are my null and alternative hypothses:  \n",
    "**Null**: For the same participants, incongruent color recognition does the same time as congruent color recognition averagely. In other words, the mean result of (incongruent time - congruent time) is equal.  \n",
    "**Alternative**: For the same participants, incongruent color recognition does the different time from congruent color recognition averagely. In other words, the mean result of (incongruent time - congruent time) is not equal.  \n",
    "\n",
    "\n",
    "**Then, the following are the null and alternative hypotheses mathematically:  **\n",
    "$$ H_{0}: D = 0 $$\n",
    "$$ H_{1}: D \\ne 0 $$  \n",
    "Where $ D = \\frac{\\sum_{i=1}^{N}{d{i}}}{N} $   \n",
    "D:population mean of the diifference between incongruent and congruent color recognition.  \n",
    "N:population count.  \n",
    "$ d_{i} = Time_{I_{i}} - Time_{C_{i}}$: The difference between two kinds of time the same person takes in incongruent and congruent color recognition.  \n",
    "$ Time_{I_{i}} $:The time for the $i^{th}$ participant to recognize the right color in incongruent color recognition.  \n",
    "$ Time_{C_{i}} $:The time for the $i^{th}$ participant to recognize the right color in congruent color recognition."
   ]
  },
  {
   "cell_type": "markdown",
   "metadata": {},
   "source": [
    "Due to the above analysis, I will choose paired two-tailed t-test to ensure whether the difference of time mean has statistical significance, and the reasons are following:\n",
    "<ul>\n",
    "<li>Correlated samples are paired measurement of a group of items, and in this case, the two samples are both from one group of people, so they are correlated samples.</li>\n",
    "<li>$H_{1}$ is two-sides alternative hepothesis.</li>\n",
    "</ul>"
   ]
  },
  {
   "cell_type": "markdown",
   "metadata": {},
   "source": [
    "##### (3) Report some descriptive statistics regarding this dataset. Include at least one measure of central tendency and at least one measure of variability."
   ]
  },
  {
   "cell_type": "code",
   "execution_count": 15,
   "metadata": {},
   "outputs": [
    {
     "data": {
      "text/html": [
       "<div>\n",
       "<style>\n",
       "    .dataframe thead tr:only-child th {\n",
       "        text-align: right;\n",
       "    }\n",
       "\n",
       "    .dataframe thead th {\n",
       "        text-align: left;\n",
       "    }\n",
       "\n",
       "    .dataframe tbody tr th {\n",
       "        vertical-align: top;\n",
       "    }\n",
       "</style>\n",
       "<table border=\"1\" class=\"dataframe\">\n",
       "  <thead>\n",
       "    <tr style=\"text-align: right;\">\n",
       "      <th></th>\n",
       "      <th>Congruent</th>\n",
       "      <th>Incongruent</th>\n",
       "    </tr>\n",
       "  </thead>\n",
       "  <tbody>\n",
       "    <tr>\n",
       "      <th>0</th>\n",
       "      <td>12.079</td>\n",
       "      <td>19.278</td>\n",
       "    </tr>\n",
       "    <tr>\n",
       "      <th>1</th>\n",
       "      <td>16.791</td>\n",
       "      <td>18.741</td>\n",
       "    </tr>\n",
       "    <tr>\n",
       "      <th>2</th>\n",
       "      <td>9.564</td>\n",
       "      <td>21.214</td>\n",
       "    </tr>\n",
       "    <tr>\n",
       "      <th>3</th>\n",
       "      <td>8.630</td>\n",
       "      <td>15.687</td>\n",
       "    </tr>\n",
       "    <tr>\n",
       "      <th>4</th>\n",
       "      <td>14.669</td>\n",
       "      <td>22.803</td>\n",
       "    </tr>\n",
       "  </tbody>\n",
       "</table>\n",
       "</div>"
      ],
      "text/plain": [
       "   Congruent  Incongruent\n",
       "0     12.079       19.278\n",
       "1     16.791       18.741\n",
       "2      9.564       21.214\n",
       "3      8.630       15.687\n",
       "4     14.669       22.803"
      ]
     },
     "execution_count": 15,
     "metadata": {},
     "output_type": "execute_result"
    }
   ],
   "source": [
    "import numpy as np\n",
    "import pandas as pd\n",
    "import matplotlib.pyplot as plt\n",
    "import seaborn as sns\n",
    "%matplotlib inline\n",
    "\n",
    "# load data\n",
    "df = pd.read_csv('stroopdata.csv')\n",
    "df.head()"
   ]
  },
  {
   "cell_type": "code",
   "execution_count": 16,
   "metadata": {},
   "outputs": [
    {
     "data": {
      "text/html": [
       "<div>\n",
       "<style>\n",
       "    .dataframe thead tr:only-child th {\n",
       "        text-align: right;\n",
       "    }\n",
       "\n",
       "    .dataframe thead th {\n",
       "        text-align: left;\n",
       "    }\n",
       "\n",
       "    .dataframe tbody tr th {\n",
       "        vertical-align: top;\n",
       "    }\n",
       "</style>\n",
       "<table border=\"1\" class=\"dataframe\">\n",
       "  <thead>\n",
       "    <tr style=\"text-align: right;\">\n",
       "      <th></th>\n",
       "      <th>Congruent</th>\n",
       "      <th>Incongruent</th>\n",
       "      <th>d</th>\n",
       "    </tr>\n",
       "  </thead>\n",
       "  <tbody>\n",
       "    <tr>\n",
       "      <th>0</th>\n",
       "      <td>12.079</td>\n",
       "      <td>19.278</td>\n",
       "      <td>7.199</td>\n",
       "    </tr>\n",
       "    <tr>\n",
       "      <th>1</th>\n",
       "      <td>16.791</td>\n",
       "      <td>18.741</td>\n",
       "      <td>1.950</td>\n",
       "    </tr>\n",
       "    <tr>\n",
       "      <th>2</th>\n",
       "      <td>9.564</td>\n",
       "      <td>21.214</td>\n",
       "      <td>11.650</td>\n",
       "    </tr>\n",
       "    <tr>\n",
       "      <th>3</th>\n",
       "      <td>8.630</td>\n",
       "      <td>15.687</td>\n",
       "      <td>7.057</td>\n",
       "    </tr>\n",
       "    <tr>\n",
       "      <th>4</th>\n",
       "      <td>14.669</td>\n",
       "      <td>22.803</td>\n",
       "      <td>8.134</td>\n",
       "    </tr>\n",
       "  </tbody>\n",
       "</table>\n",
       "</div>"
      ],
      "text/plain": [
       "   Congruent  Incongruent       d\n",
       "0     12.079       19.278   7.199\n",
       "1     16.791       18.741   1.950\n",
       "2      9.564       21.214  11.650\n",
       "3      8.630       15.687   7.057\n",
       "4     14.669       22.803   8.134"
      ]
     },
     "execution_count": 16,
     "metadata": {},
     "output_type": "execute_result"
    }
   ],
   "source": [
    "# add a new column which is used to store the difference between two kinds of time the same person takes in incongruent and congruent color recognition\n",
    "df['d'] = df['Incongruent'] - df['Congruent']\n",
    "df.head()"
   ]
  },
  {
   "cell_type": "code",
   "execution_count": 17,
   "metadata": {},
   "outputs": [
    {
     "data": {
      "text/html": [
       "<div>\n",
       "<style>\n",
       "    .dataframe thead tr:only-child th {\n",
       "        text-align: right;\n",
       "    }\n",
       "\n",
       "    .dataframe thead th {\n",
       "        text-align: left;\n",
       "    }\n",
       "\n",
       "    .dataframe tbody tr th {\n",
       "        vertical-align: top;\n",
       "    }\n",
       "</style>\n",
       "<table border=\"1\" class=\"dataframe\">\n",
       "  <thead>\n",
       "    <tr style=\"text-align: right;\">\n",
       "      <th></th>\n",
       "      <th>Congruent</th>\n",
       "      <th>Incongruent</th>\n",
       "      <th>d</th>\n",
       "    </tr>\n",
       "  </thead>\n",
       "  <tbody>\n",
       "    <tr>\n",
       "      <th>count</th>\n",
       "      <td>24.000000</td>\n",
       "      <td>24.000000</td>\n",
       "      <td>24.000000</td>\n",
       "    </tr>\n",
       "    <tr>\n",
       "      <th>mean</th>\n",
       "      <td>14.051125</td>\n",
       "      <td>22.015917</td>\n",
       "      <td>7.964792</td>\n",
       "    </tr>\n",
       "    <tr>\n",
       "      <th>std</th>\n",
       "      <td>3.559358</td>\n",
       "      <td>4.797057</td>\n",
       "      <td>4.864827</td>\n",
       "    </tr>\n",
       "    <tr>\n",
       "      <th>min</th>\n",
       "      <td>8.630000</td>\n",
       "      <td>15.687000</td>\n",
       "      <td>1.950000</td>\n",
       "    </tr>\n",
       "    <tr>\n",
       "      <th>25%</th>\n",
       "      <td>11.895250</td>\n",
       "      <td>18.716750</td>\n",
       "      <td>3.645500</td>\n",
       "    </tr>\n",
       "    <tr>\n",
       "      <th>50%</th>\n",
       "      <td>14.356500</td>\n",
       "      <td>21.017500</td>\n",
       "      <td>7.666500</td>\n",
       "    </tr>\n",
       "    <tr>\n",
       "      <th>75%</th>\n",
       "      <td>16.200750</td>\n",
       "      <td>24.051500</td>\n",
       "      <td>10.258500</td>\n",
       "    </tr>\n",
       "    <tr>\n",
       "      <th>max</th>\n",
       "      <td>22.328000</td>\n",
       "      <td>35.255000</td>\n",
       "      <td>21.919000</td>\n",
       "    </tr>\n",
       "  </tbody>\n",
       "</table>\n",
       "</div>"
      ],
      "text/plain": [
       "       Congruent  Incongruent          d\n",
       "count  24.000000    24.000000  24.000000\n",
       "mean   14.051125    22.015917   7.964792\n",
       "std     3.559358     4.797057   4.864827\n",
       "min     8.630000    15.687000   1.950000\n",
       "25%    11.895250    18.716750   3.645500\n",
       "50%    14.356500    21.017500   7.666500\n",
       "75%    16.200750    24.051500  10.258500\n",
       "max    22.328000    35.255000  21.919000"
      ]
     },
     "execution_count": 17,
     "metadata": {},
     "output_type": "execute_result"
    }
   ],
   "source": [
    "df.describe()"
   ]
  },
  {
   "cell_type": "markdown",
   "metadata": {},
   "source": [
    "**Both the sample means and medians are among measure of central tendency.  \n",
    "  Sample Standard Deviation is a measure of variability.  \n",
    "  From the information showed above, and I can get the following statistical results:**  \n",
    "Congruent:(1) Central tendency: mean = 14.051125, median = 14.356500; (2) Variability: std = 3.559358.  \n",
    "Incongruent:(1) Central tendency: mean = 22.015917, median = 21.017500; (2) Variability: std = 4.797057. "
   ]
  },
  {
   "cell_type": "markdown",
   "metadata": {},
   "source": [
    "##### (4) Provide one or two visualizations that show the distribution of the sample data. Write one or two sentences noting what you observe about the plot or plots."
   ]
  },
  {
   "cell_type": "code",
   "execution_count": 18,
   "metadata": {},
   "outputs": [
    {
     "data": {
      "image/png": "[encoded data removed]",
      "text/plain": [
       "<matplotlib.figure.Figure at 0x10e13a2b0>"
      ]
     },
     "metadata": {},
     "output_type": "display_data"
    }
   ],
   "source": [
    "# The first visualization I want to show is about the distribution of time based on congruent and incongruent color recognition\n",
    "sns.distplot(df['Congruent'], kde=True, color='b', label='Congruent')\n",
    "sns.distplot(df['Incongruent'], kde=True, color='r', label='Incongruent')\n",
    "plt.legend()\n",
    "plt.ylabel('percentage')\n",
    "plt.xlabel('Congruent/Incongruent')\n",
    "plt.title('Histogram');"
   ]
  },
  {
   "cell_type": "markdown",
   "metadata": {},
   "source": [
    "From the diagram above, it is obvious that the distribution of time under incongruent color recognition condition is on the right side of the distribution of time under congruent color recognition condition, which means the time use under incongruent color recognition condition is more than under congruent color recognition condition in total.  \n",
    "\n",
    "The time spend under congruent condition is between about 9s to 23s, and the time spend under incongruent condition is between about 15s to 35s. "
   ]
  },
  {
   "cell_type": "code",
   "execution_count": 30,
   "metadata": {},
   "outputs": [
    {
     "data": {
      "image/png": "[encoded data removed]",
      "text/plain": [
       "<matplotlib.figure.Figure at 0x1a1350db70>"
      ]
     },
     "metadata": {},
     "output_type": "display_data"
    }
   ],
   "source": [
    "# The second visualization I want to show is about the difference between two kinds of time the same person takes in incongruent and congruent color recognition\n",
    "sns.boxplot(y=df['d'], width=0.1);\n",
    "plt.title('box plot of d')\n",
    "plt.ylabel('d (seconds)');"
   ]
  },
  {
   "cell_type": "markdown",
   "metadata": {},
   "source": [
    "Box plot is used to illustrate the dispersal in the data of the difference between two kinds of time the same person takes in incongruent and congruent color recognition. And from the diagram, it is clear that all the single sample of the (incongruent time - congruent time) is greater than 0 which means when the color is different from the words,participants will spend more time to say the right color.\n",
    "\n",
    "About mathmatical information, the figure shows that the range of the difference is from about 2.3s to 22.4s, and this sample of difference seems  to be centeral at 7.5s. The value of the outliers in this box plot is around at d = 22.4s.  \n",
    "\n",
    "Because all the data is from a sample group, it is hard to say whether this distribution is normal."
   ]
  },
  {
   "cell_type": "markdown",
   "metadata": {},
   "source": [
    "##### (5) Now, perform the statistical test and report your results.What is your confidence level or Type I error associated with your test? What is your conclusion regarding the hypotheses you set up? Did the results match up with your expectations?"
   ]
  },
  {
   "cell_type": "markdown",
   "metadata": {},
   "source": [
    "#### Cofidence level: 99.9%\n",
    "#### Type I error: 0.001"
   ]
  },
  {
   "cell_type": "code",
   "execution_count": 31,
   "metadata": {},
   "outputs": [
    {
     "data": {
      "text/plain": [
       "Ttest_relResult(statistic=8.020706944109957, pvalue=4.1030005857111781e-08)"
      ]
     },
     "execution_count": 31,
     "metadata": {},
     "output_type": "execute_result"
    }
   ],
   "source": [
    "# Calculate t-score and p-value \n",
    "from scipy import stats\n",
    "\n",
    "stats.ttest_rel(df['Incongruent'], df['Congruent'])"
   ]
  },
  {
   "cell_type": "code",
   "execution_count": 38,
   "metadata": {},
   "outputs": [
    {
     "data": {
      "text/plain": [
       "3.7676268037739273"
      ]
     },
     "execution_count": 38,
     "metadata": {},
     "output_type": "execute_result"
    }
   ],
   "source": [
    "# Calculate t-critical value when alpha=0.001\n",
    "alpha = 0.001\n",
    "n = df.shape[0]\n",
    "stats.t.ppf(1-alpha/2,n-1)"
   ]
  },
  {
   "cell_type": "markdown",
   "metadata": {},
   "source": [
    "(1) This is a two-tailed test, so the p-value of one-tailed test is $ 0.5*4.1030005857111781e^{-8} $, and it is extremely less than Type I error;  \n",
    "(2) From the t-test, I get the t-statistic=8.020706944109957 which is greater than t-critical=3.7676268037739273;  \n",
    "**From the information above, I reject the null hypothsis, and the t-statistic is on the right side of the t-critical region, so I think it makes sense that incongruent color recognition does take longer time than congruent color recognition.**  \n",
    "\n",
    "**The result matches up my expectation.**"
   ]
  },
  {
   "cell_type": "markdown",
   "metadata": {},
   "source": [
    "Reference:  \n",
    "https://seaborn.pydata.org/generated/seaborn.distplot.html  \n",
    "https://docs.scipy.org/doc/scipy-0.14.0/reference/generated/scipy.stats.ttest_rel.html  \n",
    "https://www.cnblogs.com/laoduan/p/7641698.html  \n",
    "https://www.jianshu.com/p/93ccc63e5a1b  \n",
    "https://baike.baidu.com/item/%E7%AE%B1%E5%BD%A2%E5%9B%BE  \n",
    "https://seaborn.pydata.org/generated/seaborn.boxplot.html  \n",
    "https://zhuanlan.zhihu.com/p/34059825"
   ]
  }
 ],
 "metadata": {
  "anaconda-cloud": {},
  "kernelspec": {
   "display_name": "Python 3",
   "language": "python",
   "name": "python3"
  },
  "language_info": {
   "codemirror_mode": {
    "name": "ipython",
    "version": 3
   },
   "file_extension": ".py",
   "mimetype": "text/x-python",
   "name": "python",
   "nbconvert_exporter": "python",
   "pygments_lexer": "ipython3",
   "version": "3.6.3"
  }
 },
 "nbformat": 4,
 "nbformat_minor": 2
}
